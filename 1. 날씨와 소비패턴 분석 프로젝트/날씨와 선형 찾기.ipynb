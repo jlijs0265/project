{
 "cells": [
  {
   "cell_type": "code",
   "execution_count": 1,
   "metadata": {},
   "outputs": [],
   "source": [
    "import numpy as np\n",
    "import pandas as pd"
   ]
  },
  {
   "cell_type": "code",
   "execution_count": 153,
   "metadata": {},
   "outputs": [
    {
     "name": "stderr",
     "output_type": "stream",
     "text": [
      "C:\\Users\\admin\\Anaconda3\\lib\\site-packages\\numpy\\lib\\arraysetops.py:583: FutureWarning: elementwise comparison failed; returning scalar instead, but in the future will perform elementwise comparison\n",
      "  mask |= (ar1 == a)\n"
     ]
    }
   ],
   "source": [
    "buy= pd.read_csv('data/buy_remove_low.csv',encoding = 'euc-kr',index_col=0)"
   ]
  },
  {
   "cell_type": "code",
   "execution_count": 154,
   "metadata": {},
   "outputs": [],
   "source": [
    "f_40 = buy.loc[(buy['sex']=='F')&(buy[\"age\"]==40)]"
   ]
  },
  {
   "cell_type": "code",
   "execution_count": 155,
   "metadata": {},
   "outputs": [
    {
     "name": "stderr",
     "output_type": "stream",
     "text": [
      "C:\\Users\\admin\\Anaconda3\\lib\\site-packages\\ipykernel_launcher.py:1: SettingWithCopyWarning: \n",
      "A value is trying to be set on a copy of a slice from a DataFrame.\n",
      "Try using .loc[row_indexer,col_indexer] = value instead\n",
      "\n",
      "See the caveats in the documentation: https://pandas.pydata.org/pandas-docs/stable/user_guide/indexing.html#returning-a-view-versus-a-copy\n",
      "  \"\"\"Entry point for launching an IPython kernel.\n"
     ]
    }
   ],
   "source": [
    "f_40['datetime']= pd.to_datetime(f_40.date, format='%Y%m%d')"
   ]
  },
  {
   "cell_type": "code",
   "execution_count": 156,
   "metadata": {},
   "outputs": [],
   "source": [
    "f_40=f_40.iloc[:,1:]"
   ]
  },
  {
   "cell_type": "code",
   "execution_count": 9,
   "metadata": {},
   "outputs": [],
   "source": [
    "f_40.to_csv('data/f_40.csv',encoding = 'euc-kr')"
   ]
  },
  {
   "cell_type": "markdown",
   "metadata": {},
   "source": [
    "## 데이터 불러와 매일 산 물품 select로 정리"
   ]
  },
  {
   "cell_type": "code",
   "execution_count": 46,
   "metadata": {},
   "outputs": [],
   "source": [
    "select = f_40.groupby('sm_cat').count().reset_index().loc[f_40.groupby('sm_cat').count().reset_index().date==730].sm_cat.values"
   ]
  },
  {
   "cell_type": "code",
   "execution_count": 47,
   "metadata": {},
   "outputs": [
    {
     "data": {
      "text/plain": [
       "153"
      ]
     },
     "execution_count": 47,
     "metadata": {},
     "output_type": "execute_result"
    }
   ],
   "source": [
    "len(select)"
   ]
  },
  {
   "cell_type": "markdown",
   "metadata": {},
   "source": [
    "## 날씨 데이터 전처리"
   ]
  },
  {
   "cell_type": "code",
   "execution_count": 169,
   "metadata": {},
   "outputs": [],
   "source": [
    "import matplotlib.pyplot as plt\n",
    "import matplotlib\n",
    "import matplotlib.font_manager as fm\n",
    "from matplotlib import rc"
   ]
  },
  {
   "cell_type": "code",
   "execution_count": 170,
   "metadata": {},
   "outputs": [],
   "source": [
    "font_name = fm.FontProperties(fname = 'C:\\\\WINDOWS\\\\Fonts\\\\malgun.TTF')\n",
    "font_name.get_name()\n",
    "rc('font', family = font_name.get_name())"
   ]
  },
  {
   "cell_type": "code",
   "execution_count": 157,
   "metadata": {},
   "outputs": [],
   "source": [
    "weather_raw = f_40.groupby('date').mean().iloc[:,2:]"
   ]
  },
  {
   "cell_type": "code",
   "execution_count": 59,
   "metadata": {},
   "outputs": [
    {
     "data": {
      "text/plain": [
       "<matplotlib.axes._subplots.AxesSubplot at 0x1058dab3908>"
      ]
     },
     "execution_count": 59,
     "metadata": {},
     "output_type": "execute_result"
    },
    {
     "data": {
      "image/png": "[encoded data removed]",
      "text/plain": [
       "<Figure size 1440x720 with 1 Axes>"
      ]
     },
     "metadata": {
      "needs_background": "light"
     },
     "output_type": "display_data"
    }
   ],
   "source": [
    "weather_raw.plot.box(figsize=(20,10))"
   ]
  },
  {
   "cell_type": "markdown",
   "metadata": {},
   "source": [
    "강수계속시간, 일강수량 -> 명목형 데이터로 형식 변경,  \n",
    "나머지 최대풍속, 평균풍속, PM10 이상치 나타남"
   ]
  },
  {
   "cell_type": "markdown",
   "metadata": {},
   "source": [
    "기상청에서는 약한비, (보통)비, 강한 비, 매우강한비  \n",
    "1시간당 3mm 미만, 3~15 미만, 15mm 이상, 30mm이상"
   ]
  },
  {
   "cell_type": "markdown",
   "metadata": {},
   "source": [
    "- 시간당 2.5mm : 옷이 젖는것은 신경쓰지 않을 정도 물웅덩이가 고이지않음  \n",
    "- 시간당 6.5mm : 땅에 물웅덩이가 고이고 나뭇잎에도 빗방울이 맺히는 정도\n",
    "- 시간당 8.5mm : 육안으로 거세진 빗줄기가 보이고, 땅에 떨어지는 빗방울또한 크게보임"
   ]
  },
  {
   "cell_type": "code",
   "execution_count": 93,
   "metadata": {},
   "outputs": [],
   "source": [
    "weather_raw['호우강도']= 0"
   ]
  },
  {
   "cell_type": "code",
   "execution_count": 94,
   "metadata": {},
   "outputs": [],
   "source": [
    "rain = weather_raw.일강수량.sort_values()[730-525:].index.values"
   ]
  },
  {
   "cell_type": "code",
   "execution_count": 104,
   "metadata": {},
   "outputs": [],
   "source": [
    "for i in rain:\n",
    "    weather_raw.loc[i,['호우강도']]= weather_raw.loc[i,'일강수량'] / weather_raw.loc[i,'강수계속시간]"
   ]
  },
  {
   "cell_type": "markdown",
   "metadata": {},
   "source": [
    "20190327 : 호우강도량이 이상함. (일강수량이 Null, 강수계속시간이 작은 시간이어서 2000대 까지 올라갔음 )->0"
   ]
  },
  {
   "cell_type": "code",
   "execution_count": 124,
   "metadata": {},
   "outputs": [
    {
     "name": "stderr",
     "output_type": "stream",
     "text": [
      "C:\\Users\\admin\\Anaconda3\\lib\\site-packages\\pandas\\core\\indexing.py:1637: SettingWithCopyWarning: \n",
      "A value is trying to be set on a copy of a slice from a DataFrame\n",
      "\n",
      "See the caveats in the documentation: https://pandas.pydata.org/pandas-docs/stable/user_guide/indexing.html#returning-a-view-versus-a-copy\n",
      "  self._setitem_single_block(indexer, value, name)\n",
      "C:\\Users\\admin\\Anaconda3\\lib\\site-packages\\pandas\\core\\indexing.py:692: SettingWithCopyWarning: \n",
      "A value is trying to be set on a copy of a slice from a DataFrame\n",
      "\n",
      "See the caveats in the documentation: https://pandas.pydata.org/pandas-docs/stable/user_guide/indexing.html#returning-a-view-versus-a-copy\n",
      "  iloc._setitem_with_indexer(indexer, value, self.name)\n"
     ]
    }
   ],
   "source": [
    "weather_raw.loc[20190327,['호우강도']] =0"
   ]
  },
  {
   "cell_type": "code",
   "execution_count": 125,
   "metadata": {},
   "outputs": [
    {
     "data": {
      "text/html": [
       "<div>\n",
       "<style scoped>\n",
       "    .dataframe tbody tr th:only-of-type {\n",
       "        vertical-align: middle;\n",
       "    }\n",
       "\n",
       "    .dataframe tbody tr th {\n",
       "        vertical-align: top;\n",
       "    }\n",
       "\n",
       "    .dataframe thead th {\n",
       "        text-align: right;\n",
       "    }\n",
       "</style>\n",
       "<table border=\"1\" class=\"dataframe\">\n",
       "  <thead>\n",
       "    <tr style=\"text-align: right;\">\n",
       "      <th></th>\n",
       "      <th>평균기온</th>\n",
       "      <th>최저기온</th>\n",
       "      <th>최고기온</th>\n",
       "      <th>강수계속시간</th>\n",
       "      <th>일강수량</th>\n",
       "      <th>최대풍속</th>\n",
       "      <th>평균풍속</th>\n",
       "      <th>최소상대습도</th>\n",
       "      <th>평균상대습도</th>\n",
       "      <th>평균증기압</th>\n",
       "      <th>가조시간</th>\n",
       "      <th>합계일조시간</th>\n",
       "      <th>합계일사량</th>\n",
       "      <th>평균중하층운량</th>\n",
       "      <th>평균지면온도</th>\n",
       "      <th>합계대형증발량</th>\n",
       "      <th>합계소형증발량</th>\n",
       "      <th>PM10</th>\n",
       "      <th>호우강도</th>\n",
       "    </tr>\n",
       "    <tr>\n",
       "      <th>date</th>\n",
       "      <th></th>\n",
       "      <th></th>\n",
       "      <th></th>\n",
       "      <th></th>\n",
       "      <th></th>\n",
       "      <th></th>\n",
       "      <th></th>\n",
       "      <th></th>\n",
       "      <th></th>\n",
       "      <th></th>\n",
       "      <th></th>\n",
       "      <th></th>\n",
       "      <th></th>\n",
       "      <th></th>\n",
       "      <th></th>\n",
       "      <th></th>\n",
       "      <th></th>\n",
       "      <th></th>\n",
       "      <th></th>\n",
       "    </tr>\n",
       "  </thead>\n",
       "  <tbody>\n",
       "    <tr>\n",
       "      <th>20180101</th>\n",
       "      <td>-0.226793</td>\n",
       "      <td>-4.328181</td>\n",
       "      <td>4.897524</td>\n",
       "      <td>0.000001</td>\n",
       "      <td>0.000001</td>\n",
       "      <td>4.457719</td>\n",
       "      <td>1.661643</td>\n",
       "      <td>23.016449</td>\n",
       "      <td>47.160994</td>\n",
       "      <td>2.709597</td>\n",
       "      <td>9.719286</td>\n",
       "      <td>8.421257</td>\n",
       "      <td>7.645192</td>\n",
       "      <td>0.592546</td>\n",
       "      <td>-0.272308</td>\n",
       "      <td>1.292109</td>\n",
       "      <td>1.859581</td>\n",
       "      <td>41.066448</td>\n",
       "      <td>0.000000</td>\n",
       "    </tr>\n",
       "    <tr>\n",
       "      <th>20190208</th>\n",
       "      <td>-3.148019</td>\n",
       "      <td>-7.241578</td>\n",
       "      <td>1.928497</td>\n",
       "      <td>0.000001</td>\n",
       "      <td>0.000001</td>\n",
       "      <td>5.102077</td>\n",
       "      <td>2.295995</td>\n",
       "      <td>20.989796</td>\n",
       "      <td>36.700432</td>\n",
       "      <td>1.841785</td>\n",
       "      <td>10.624095</td>\n",
       "      <td>7.825880</td>\n",
       "      <td>11.894777</td>\n",
       "      <td>1.714306</td>\n",
       "      <td>0.066832</td>\n",
       "      <td>1.785162</td>\n",
       "      <td>2.532731</td>\n",
       "      <td>30.837612</td>\n",
       "      <td>0.000000</td>\n",
       "    </tr>\n",
       "    <tr>\n",
       "      <th>20190206</th>\n",
       "      <td>6.122051</td>\n",
       "      <td>0.121909</td>\n",
       "      <td>12.202707</td>\n",
       "      <td>0.000001</td>\n",
       "      <td>0.000001</td>\n",
       "      <td>3.705972</td>\n",
       "      <td>1.373122</td>\n",
       "      <td>33.305296</td>\n",
       "      <td>56.807090</td>\n",
       "      <td>5.289426</td>\n",
       "      <td>10.544919</td>\n",
       "      <td>4.890686</td>\n",
       "      <td>8.714952</td>\n",
       "      <td>3.677226</td>\n",
       "      <td>3.584762</td>\n",
       "      <td>1.586111</td>\n",
       "      <td>2.231744</td>\n",
       "      <td>84.996969</td>\n",
       "      <td>0.000000</td>\n",
       "    </tr>\n",
       "    <tr>\n",
       "      <th>20190205</th>\n",
       "      <td>3.346282</td>\n",
       "      <td>-3.117802</td>\n",
       "      <td>10.814471</td>\n",
       "      <td>0.000001</td>\n",
       "      <td>0.000001</td>\n",
       "      <td>3.500317</td>\n",
       "      <td>1.283417</td>\n",
       "      <td>18.766906</td>\n",
       "      <td>45.188109</td>\n",
       "      <td>3.282813</td>\n",
       "      <td>10.528939</td>\n",
       "      <td>8.152347</td>\n",
       "      <td>11.887178</td>\n",
       "      <td>0.588518</td>\n",
       "      <td>2.485674</td>\n",
       "      <td>1.909790</td>\n",
       "      <td>2.770273</td>\n",
       "      <td>85.303916</td>\n",
       "      <td>0.000000</td>\n",
       "    </tr>\n",
       "    <tr>\n",
       "      <th>20190204</th>\n",
       "      <td>1.646504</td>\n",
       "      <td>-1.420323</td>\n",
       "      <td>5.731190</td>\n",
       "      <td>0.000001</td>\n",
       "      <td>0.000001</td>\n",
       "      <td>5.315484</td>\n",
       "      <td>2.316368</td>\n",
       "      <td>18.277989</td>\n",
       "      <td>41.838735</td>\n",
       "      <td>2.773858</td>\n",
       "      <td>10.466413</td>\n",
       "      <td>8.780732</td>\n",
       "      <td>12.638219</td>\n",
       "      <td>0.227217</td>\n",
       "      <td>2.306445</td>\n",
       "      <td>2.125366</td>\n",
       "      <td>3.055708</td>\n",
       "      <td>78.154665</td>\n",
       "      <td>0.000000</td>\n",
       "    </tr>\n",
       "    <tr>\n",
       "      <th>...</th>\n",
       "      <td>...</td>\n",
       "      <td>...</td>\n",
       "      <td>...</td>\n",
       "      <td>...</td>\n",
       "      <td>...</td>\n",
       "      <td>...</td>\n",
       "      <td>...</td>\n",
       "      <td>...</td>\n",
       "      <td>...</td>\n",
       "      <td>...</td>\n",
       "      <td>...</td>\n",
       "      <td>...</td>\n",
       "      <td>...</td>\n",
       "      <td>...</td>\n",
       "      <td>...</td>\n",
       "      <td>...</td>\n",
       "      <td>...</td>\n",
       "      <td>...</td>\n",
       "      <td>...</td>\n",
       "    </tr>\n",
       "    <tr>\n",
       "      <th>20190624</th>\n",
       "      <td>23.431615</td>\n",
       "      <td>19.058680</td>\n",
       "      <td>28.940032</td>\n",
       "      <td>0.003190</td>\n",
       "      <td>0.031787</td>\n",
       "      <td>4.466226</td>\n",
       "      <td>1.970652</td>\n",
       "      <td>42.355345</td>\n",
       "      <td>62.197539</td>\n",
       "      <td>17.290174</td>\n",
       "      <td>14.668285</td>\n",
       "      <td>12.594197</td>\n",
       "      <td>25.582972</td>\n",
       "      <td>1.904255</td>\n",
       "      <td>30.084423</td>\n",
       "      <td>5.394594</td>\n",
       "      <td>7.708687</td>\n",
       "      <td>24.800619</td>\n",
       "      <td>9.965278</td>\n",
       "    </tr>\n",
       "    <tr>\n",
       "      <th>20181218</th>\n",
       "      <td>2.840682</td>\n",
       "      <td>-2.077365</td>\n",
       "      <td>8.764435</td>\n",
       "      <td>0.000001</td>\n",
       "      <td>0.000028</td>\n",
       "      <td>4.618173</td>\n",
       "      <td>1.485164</td>\n",
       "      <td>39.451533</td>\n",
       "      <td>63.650380</td>\n",
       "      <td>4.660653</td>\n",
       "      <td>9.668877</td>\n",
       "      <td>7.024757</td>\n",
       "      <td>7.909968</td>\n",
       "      <td>2.351363</td>\n",
       "      <td>0.340570</td>\n",
       "      <td>1.283239</td>\n",
       "      <td>1.850841</td>\n",
       "      <td>47.694981</td>\n",
       "      <td>27.621421</td>\n",
       "    </tr>\n",
       "    <tr>\n",
       "      <th>20180202</th>\n",
       "      <td>-1.663190</td>\n",
       "      <td>-6.966909</td>\n",
       "      <td>4.585003</td>\n",
       "      <td>0.000001</td>\n",
       "      <td>0.000045</td>\n",
       "      <td>4.198649</td>\n",
       "      <td>1.732542</td>\n",
       "      <td>22.423443</td>\n",
       "      <td>47.811168</td>\n",
       "      <td>2.392499</td>\n",
       "      <td>10.433619</td>\n",
       "      <td>8.224997</td>\n",
       "      <td>8.917673</td>\n",
       "      <td>0.623337</td>\n",
       "      <td>-1.689022</td>\n",
       "      <td>1.484090</td>\n",
       "      <td>2.165817</td>\n",
       "      <td>49.237425</td>\n",
       "      <td>45.236382</td>\n",
       "    </tr>\n",
       "    <tr>\n",
       "      <th>20181106</th>\n",
       "      <td>12.586134</td>\n",
       "      <td>7.749196</td>\n",
       "      <td>18.652042</td>\n",
       "      <td>0.000001</td>\n",
       "      <td>0.000045</td>\n",
       "      <td>2.865050</td>\n",
       "      <td>1.107512</td>\n",
       "      <td>49.499145</td>\n",
       "      <td>78.287015</td>\n",
       "      <td>11.201688</td>\n",
       "      <td>10.536284</td>\n",
       "      <td>5.322687</td>\n",
       "      <td>8.933258</td>\n",
       "      <td>3.007333</td>\n",
       "      <td>12.506104</td>\n",
       "      <td>1.461092</td>\n",
       "      <td>2.095339</td>\n",
       "      <td>87.482148</td>\n",
       "      <td>45.236382</td>\n",
       "    </tr>\n",
       "    <tr>\n",
       "      <th>20180808</th>\n",
       "      <td>29.709206</td>\n",
       "      <td>26.143965</td>\n",
       "      <td>34.672748</td>\n",
       "      <td>0.014796</td>\n",
       "      <td>0.802221</td>\n",
       "      <td>4.698131</td>\n",
       "      <td>1.981293</td>\n",
       "      <td>47.520071</td>\n",
       "      <td>72.613988</td>\n",
       "      <td>29.586383</td>\n",
       "      <td>13.831123</td>\n",
       "      <td>10.368185</td>\n",
       "      <td>19.580564</td>\n",
       "      <td>3.219341</td>\n",
       "      <td>36.233449</td>\n",
       "      <td>4.789593</td>\n",
       "      <td>6.826442</td>\n",
       "      <td>27.539253</td>\n",
       "      <td>54.219292</td>\n",
       "    </tr>\n",
       "  </tbody>\n",
       "</table>\n",
       "<p>730 rows × 19 columns</p>\n",
       "</div>"
      ],
      "text/plain": [
       "               평균기온       최저기온       최고기온    강수계속시간      일강수량      최대풍속  \\\n",
       "date                                                                      \n",
       "20180101  -0.226793  -4.328181   4.897524  0.000001  0.000001  4.457719   \n",
       "20190208  -3.148019  -7.241578   1.928497  0.000001  0.000001  5.102077   \n",
       "20190206   6.122051   0.121909  12.202707  0.000001  0.000001  3.705972   \n",
       "20190205   3.346282  -3.117802  10.814471  0.000001  0.000001  3.500317   \n",
       "20190204   1.646504  -1.420323   5.731190  0.000001  0.000001  5.315484   \n",
       "...             ...        ...        ...       ...       ...       ...   \n",
       "20190624  23.431615  19.058680  28.940032  0.003190  0.031787  4.466226   \n",
       "20181218   2.840682  -2.077365   8.764435  0.000001  0.000028  4.618173   \n",
       "20180202  -1.663190  -6.966909   4.585003  0.000001  0.000045  4.198649   \n",
       "20181106  12.586134   7.749196  18.652042  0.000001  0.000045  2.865050   \n",
       "20180808  29.709206  26.143965  34.672748  0.014796  0.802221  4.698131   \n",
       "\n",
       "              평균풍속     최소상대습도     평균상대습도      평균증기압       가조시간     합계일조시간  \\\n",
       "date                                                                        \n",
       "20180101  1.661643  23.016449  47.160994   2.709597   9.719286   8.421257   \n",
       "20190208  2.295995  20.989796  36.700432   1.841785  10.624095   7.825880   \n",
       "20190206  1.373122  33.305296  56.807090   5.289426  10.544919   4.890686   \n",
       "20190205  1.283417  18.766906  45.188109   3.282813  10.528939   8.152347   \n",
       "20190204  2.316368  18.277989  41.838735   2.773858  10.466413   8.780732   \n",
       "...            ...        ...        ...        ...        ...        ...   \n",
       "20190624  1.970652  42.355345  62.197539  17.290174  14.668285  12.594197   \n",
       "20181218  1.485164  39.451533  63.650380   4.660653   9.668877   7.024757   \n",
       "20180202  1.732542  22.423443  47.811168   2.392499  10.433619   8.224997   \n",
       "20181106  1.107512  49.499145  78.287015  11.201688  10.536284   5.322687   \n",
       "20180808  1.981293  47.520071  72.613988  29.586383  13.831123  10.368185   \n",
       "\n",
       "              합계일사량   평균중하층운량     평균지면온도   합계대형증발량   합계소형증발량       PM10  \\\n",
       "date                                                                      \n",
       "20180101   7.645192  0.592546  -0.272308  1.292109  1.859581  41.066448   \n",
       "20190208  11.894777  1.714306   0.066832  1.785162  2.532731  30.837612   \n",
       "20190206   8.714952  3.677226   3.584762  1.586111  2.231744  84.996969   \n",
       "20190205  11.887178  0.588518   2.485674  1.909790  2.770273  85.303916   \n",
       "20190204  12.638219  0.227217   2.306445  2.125366  3.055708  78.154665   \n",
       "...             ...       ...        ...       ...       ...        ...   \n",
       "20190624  25.582972  1.904255  30.084423  5.394594  7.708687  24.800619   \n",
       "20181218   7.909968  2.351363   0.340570  1.283239  1.850841  47.694981   \n",
       "20180202   8.917673  0.623337  -1.689022  1.484090  2.165817  49.237425   \n",
       "20181106   8.933258  3.007333  12.506104  1.461092  2.095339  87.482148   \n",
       "20180808  19.580564  3.219341  36.233449  4.789593  6.826442  27.539253   \n",
       "\n",
       "               호우강도  \n",
       "date                 \n",
       "20180101   0.000000  \n",
       "20190208   0.000000  \n",
       "20190206   0.000000  \n",
       "20190205   0.000000  \n",
       "20190204   0.000000  \n",
       "...             ...  \n",
       "20190624   9.965278  \n",
       "20181218  27.621421  \n",
       "20180202  45.236382  \n",
       "20181106  45.236382  \n",
       "20180808  54.219292  \n",
       "\n",
       "[730 rows x 19 columns]"
      ]
     },
     "execution_count": 125,
     "metadata": {},
     "output_type": "execute_result"
    }
   ],
   "source": [
    "weather_raw.sort_values('호우강도')"
   ]
  },
  {
   "cell_type": "code",
   "execution_count": 129,
   "metadata": {},
   "outputs": [
    {
     "data": {
      "text/plain": [
       "3"
      ]
     },
     "execution_count": 129,
     "metadata": {},
     "output_type": "execute_result"
    }
   ],
   "source": [
    "(weather_raw.호우강도 >= 30).sum()"
   ]
  },
  {
   "cell_type": "code",
   "execution_count": 151,
   "metadata": {},
   "outputs": [
    {
     "data": {
      "text/plain": [
       "1123409558720"
      ]
     },
     "execution_count": 151,
     "metadata": {},
     "output_type": "execute_result"
    }
   ],
   "source": [
    "id(weather)"
   ]
  },
  {
   "cell_type": "code",
   "execution_count": 152,
   "metadata": {},
   "outputs": [
    {
     "data": {
      "text/plain": [
       "1123366098200"
      ]
     },
     "execution_count": 152,
     "metadata": {},
     "output_type": "execute_result"
    }
   ],
   "source": [
    "id(weather_raw)"
   ]
  },
  {
   "cell_type": "code",
   "execution_count": 149,
   "metadata": {},
   "outputs": [],
   "source": [
    "weather = weather_raw.copy()"
   ]
  },
  {
   "cell_type": "code",
   "execution_count": 131,
   "metadata": {},
   "outputs": [
    {
     "name": "stderr",
     "output_type": "stream",
     "text": [
      "C:\\Users\\admin\\Anaconda3\\lib\\site-packages\\ipykernel_launcher.py:4: SettingWithCopyWarning: \n",
      "A value is trying to be set on a copy of a slice from a DataFrame.\n",
      "Try using .loc[row_indexer,col_indexer] = value instead\n",
      "\n",
      "See the caveats in the documentation: https://pandas.pydata.org/pandas-docs/stable/user_guide/indexing.html#returning-a-view-versus-a-copy\n",
      "  after removing the cwd from sys.path.\n"
     ]
    }
   ],
   "source": [
    "weather['호우강도']= np.where(weather_raw.호우강도 >= 30,'매우강한비',\n",
    "                         np.where(weather_raw.호우강도 >= 15,'강한비',\n",
    "                                 np.where(weather_raw.호우강도 >= 3,'보통비',\n",
    "                                         '비안옴')))"
   ]
  },
  {
   "cell_type": "code",
   "execution_count": 135,
   "metadata": {},
   "outputs": [
    {
     "data": {
      "text/plain": [
       "Index(['평균기온', '최저기온', '최고기온', '강수계속시간', '일강수량', '최대풍속', '평균풍속', '최소상대습도',\n",
       "       '평균상대습도', '평균증기압', '가조시간', '합계일조시간', '합계일사량', '평균중하층운량', '평균지면온도',\n",
       "       '합계대형증발량', '합계소형증발량', 'PM10', '호우강도'],\n",
       "      dtype='object')"
      ]
     },
     "execution_count": 135,
     "metadata": {},
     "output_type": "execute_result"
    }
   ],
   "source": [
    "weather.columns"
   ]
  },
  {
   "cell_type": "code",
   "execution_count": 137,
   "metadata": {},
   "outputs": [],
   "source": [
    "f_40_wheater = weather[['평균기온', '최저기온', '최고기온', '최대풍속', '평균풍속', '최소상대습도',\n",
    "       '평균상대습도', '평균증기압', '가조시간', '합계일조시간', '합계일사량', '평균중하층운량', '평균지면온도',\n",
    "       '합계대형증발량', '합계소형증발량', 'PM10',]]"
   ]
  },
  {
   "cell_type": "code",
   "execution_count": 48,
   "metadata": {},
   "outputs": [
    {
     "name": "stderr",
     "output_type": "stream",
     "text": [
      "C:\\Users\\admin\\Anaconda3\\lib\\site-packages\\sklearn\\linear_model\\least_angle.py:35: DeprecationWarning: `np.float` is a deprecated alias for the builtin `float`. To silence this warning, use `float` by itself. Doing this will not modify any behavior and is safe. If you specifically wanted the numpy scalar type, use `np.float64` here.\n",
      "Deprecated in NumPy 1.20; for more details and guidance: https://numpy.org/devdocs/release/1.20.0-notes.html#deprecations\n",
      "  eps=np.finfo(np.float).eps,\n",
      "C:\\Users\\admin\\Anaconda3\\lib\\site-packages\\sklearn\\linear_model\\least_angle.py:597: DeprecationWarning: `np.float` is a deprecated alias for the builtin `float`. To silence this warning, use `float` by itself. Doing this will not modify any behavior and is safe. If you specifically wanted the numpy scalar type, use `np.float64` here.\n",
      "Deprecated in NumPy 1.20; for more details and guidance: https://numpy.org/devdocs/release/1.20.0-notes.html#deprecations\n",
      "  eps=np.finfo(np.float).eps, copy_X=True, fit_path=True,\n",
      "C:\\Users\\admin\\Anaconda3\\lib\\site-packages\\sklearn\\linear_model\\least_angle.py:836: DeprecationWarning: `np.float` is a deprecated alias for the builtin `float`. To silence this warning, use `float` by itself. Doing this will not modify any behavior and is safe. If you specifically wanted the numpy scalar type, use `np.float64` here.\n",
      "Deprecated in NumPy 1.20; for more details and guidance: https://numpy.org/devdocs/release/1.20.0-notes.html#deprecations\n",
      "  eps=np.finfo(np.float).eps, copy_X=True, fit_path=True,\n",
      "C:\\Users\\admin\\Anaconda3\\lib\\site-packages\\sklearn\\linear_model\\least_angle.py:862: DeprecationWarning: `np.float` is a deprecated alias for the builtin `float`. To silence this warning, use `float` by itself. Doing this will not modify any behavior and is safe. If you specifically wanted the numpy scalar type, use `np.float64` here.\n",
      "Deprecated in NumPy 1.20; for more details and guidance: https://numpy.org/devdocs/release/1.20.0-notes.html#deprecations\n",
      "  eps=np.finfo(np.float).eps, positive=False):\n",
      "C:\\Users\\admin\\Anaconda3\\lib\\site-packages\\sklearn\\linear_model\\least_angle.py:1097: DeprecationWarning: `np.float` is a deprecated alias for the builtin `float`. To silence this warning, use `float` by itself. Doing this will not modify any behavior and is safe. If you specifically wanted the numpy scalar type, use `np.float64` here.\n",
      "Deprecated in NumPy 1.20; for more details and guidance: https://numpy.org/devdocs/release/1.20.0-notes.html#deprecations\n",
      "  max_n_alphas=1000, n_jobs=None, eps=np.finfo(np.float).eps,\n",
      "C:\\Users\\admin\\Anaconda3\\lib\\site-packages\\sklearn\\linear_model\\least_angle.py:1344: DeprecationWarning: `np.float` is a deprecated alias for the builtin `float`. To silence this warning, use `float` by itself. Doing this will not modify any behavior and is safe. If you specifically wanted the numpy scalar type, use `np.float64` here.\n",
      "Deprecated in NumPy 1.20; for more details and guidance: https://numpy.org/devdocs/release/1.20.0-notes.html#deprecations\n",
      "  max_n_alphas=1000, n_jobs=None, eps=np.finfo(np.float).eps,\n",
      "C:\\Users\\admin\\Anaconda3\\lib\\site-packages\\sklearn\\linear_model\\least_angle.py:1480: DeprecationWarning: `np.float` is a deprecated alias for the builtin `float`. To silence this warning, use `float` by itself. Doing this will not modify any behavior and is safe. If you specifically wanted the numpy scalar type, use `np.float64` here.\n",
      "Deprecated in NumPy 1.20; for more details and guidance: https://numpy.org/devdocs/release/1.20.0-notes.html#deprecations\n",
      "  eps=np.finfo(np.float).eps, copy_X=True, positive=False):\n",
      "C:\\Users\\admin\\Anaconda3\\lib\\site-packages\\sklearn\\linear_model\\randomized_l1.py:152: DeprecationWarning: `np.float` is a deprecated alias for the builtin `float`. To silence this warning, use `float` by itself. Doing this will not modify any behavior and is safe. If you specifically wanted the numpy scalar type, use `np.float64` here.\n",
      "Deprecated in NumPy 1.20; for more details and guidance: https://numpy.org/devdocs/release/1.20.0-notes.html#deprecations\n",
      "  precompute=False, eps=np.finfo(np.float).eps,\n",
      "C:\\Users\\admin\\Anaconda3\\lib\\site-packages\\sklearn\\linear_model\\randomized_l1.py:320: DeprecationWarning: `np.float` is a deprecated alias for the builtin `float`. To silence this warning, use `float` by itself. Doing this will not modify any behavior and is safe. If you specifically wanted the numpy scalar type, use `np.float64` here.\n",
      "Deprecated in NumPy 1.20; for more details and guidance: https://numpy.org/devdocs/release/1.20.0-notes.html#deprecations\n",
      "  eps=np.finfo(np.float).eps, random_state=None,\n",
      "C:\\Users\\admin\\Anaconda3\\lib\\site-packages\\sklearn\\linear_model\\randomized_l1.py:580: DeprecationWarning: `np.float` is a deprecated alias for the builtin `float`. To silence this warning, use `float` by itself. Doing this will not modify any behavior and is safe. If you specifically wanted the numpy scalar type, use `np.float64` here.\n",
      "Deprecated in NumPy 1.20; for more details and guidance: https://numpy.org/devdocs/release/1.20.0-notes.html#deprecations\n",
      "  eps=4 * np.finfo(np.float).eps, n_jobs=None,\n",
      "C:\\Users\\admin\\Anaconda3\\lib\\site-packages\\sklearn\\decomposition\\online_lda.py:31: DeprecationWarning: `np.float` is a deprecated alias for the builtin `float`. To silence this warning, use `float` by itself. Doing this will not modify any behavior and is safe. If you specifically wanted the numpy scalar type, use `np.float64` here.\n",
      "Deprecated in NumPy 1.20; for more details and guidance: https://numpy.org/devdocs/release/1.20.0-notes.html#deprecations\n",
      "  EPS = np.finfo(np.float).eps\n"
     ]
    }
   ],
   "source": [
    "from sklearn.preprocessing import StandardScaler\n",
    "from sklearn.decomposition import PCA"
   ]
  },
  {
   "cell_type": "code",
   "execution_count": 192,
   "metadata": {},
   "outputs": [],
   "source": [
    "from sklearn.linear_model import LinearRegression\n",
    "from sklearn.model_selection import train_test_split\n"
   ]
  },
  {
   "cell_type": "code",
   "execution_count": null,
   "metadata": {},
   "outputs": [],
   "source": [
    "plt.figure(figsize=(10,10))\n",
    "cumVar = np.cumsum(np.round(pca_wheater.explained_variance_ratio_,decimals=4)*100)\n",
    "plt.xticks(range(len(pca_wheater.explained_variance_ratio_)))\n",
    "plt.plot(cumVar,marker = 'o',c='b')\n",
    "plt.grid()"
   ]
  },
  {
   "cell_type": "code",
   "execution_count": null,
   "metadata": {},
   "outputs": [],
   "source": [
    "X_pca.plot.line(x='datetime',y=0,figsize=(10,10))\n",
    "X_pca.plot.line(x='datetime',y=1,figsize=(10,10))"
   ]
  },
  {
   "cell_type": "code",
   "execution_count": 199,
   "metadata": {},
   "outputs": [
    {
     "data": {
      "text/plain": [
       "'흰우유'"
      ]
     },
     "execution_count": 199,
     "metadata": {},
     "output_type": "execute_result"
    }
   ],
   "source": [
    "i"
   ]
  },
  {
   "cell_type": "code",
   "execution_count": 201,
   "metadata": {},
   "outputs": [],
   "source": [
    "i='감귤/한라봉/오렌지'"
   ]
  },
  {
   "cell_type": "code",
   "execution_count": 208,
   "metadata": {},
   "outputs": [
    {
     "data": {
      "text/plain": [
       "<matplotlib.axes._subplots.AxesSubplot at 0x1059aac7d68>"
      ]
     },
     "execution_count": 208,
     "metadata": {},
     "output_type": "execute_result"
    },
    {
     "data": {
      "image/png": "[encoded data removed]",
      "text/plain": [
       "<Figure size 720x720 with 1 Axes>"
      ]
     },
     "metadata": {
      "needs_background": "light"
     },
     "output_type": "display_data"
    }
   ],
   "source": [
    "f_40.loc[f_40.sm_cat==i,['qty','datetime']].plot.line(x='datetime',y='qty',figsize=(10,10))"
   ]
  },
  {
   "cell_type": "code",
   "execution_count": 198,
   "metadata": {},
   "outputs": [
    {
     "name": "stdout",
     "output_type": "stream",
     "text": [
      "감귤/한라봉/오렌지\n",
      "SS(coef)= [[ 41.7241518   -1.97986347  27.13611665 -22.52029362   3.26033975\n",
      "   -7.87616278]]\n",
      "R²= 0.47694059882910916\n"
     ]
    }
   ],
   "source": [
    "for i in select:\n",
    "    scaler = StandardScaler()\n",
    "    scaler.fit(f_40_wheater.values)\n",
    "    wheater_scaled = scaler.transform(f_40_wheater.values)\n",
    "    pca_wheater = PCA()\n",
    "    pca_wheater.fit(wheater_scaled)\n",
    "\n",
    "    X_pca_wheater = pca_wheater.transform(wheater_scaled)\n",
    "\n",
    "    X_pca = pd.DataFrame(X_pca_wheater).iloc[:,:2]\n",
    "\n",
    "    X_pca['datetime']= pd.to_datetime(weather.index.values, format='%Y%m%d')\n",
    "\n",
    "\n",
    "    onehot = pd.get_dummies(weather[['호우강도']])\n",
    "\n",
    "    onehot['datetime']= pd.to_datetime(weather.index.values, format='%Y%m%d')\n",
    "\n",
    "    X = pd.merge(X_pca,onehot,how = 'inner',on = 'datetime')\n",
    "\n",
    "    X = X[[0,1,'호우강도_강한비','호우강도_매우강한비','호우강도_보통비','호우강도_비안옴']]\n",
    "\n",
    "    y = f_40.loc[f_40.sm_cat==i,['qty']]\n",
    "\n",
    "    X_train, X_test, y_train, y_test = train_test_split(X,y,test_size = 0.1, random_state = 30)\n",
    "\n",
    "    lin = LinearRegression()\n",
    "    lin.fit(X_train,y_train)\n",
    "    lin.score(X_train, y_train)\n",
    "    if lin.score(X_test, y_test)> 0.4:\n",
    "        print(i)\n",
    "        print( \"SS(coef)=\", lin.coef_)\n",
    "        print( \"R²=\", lin.score(X_test, y_test) )"
   ]
  }
 ],
 "metadata": {
  "kernelspec": {
   "display_name": "Python 3",
   "language": "python",
   "name": "python3"
  },
  "language_info": {
   "codemirror_mode": {
    "name": "ipython",
    "version": 3
   },
   "file_extension": ".py",
   "mimetype": "text/x-python",
   "name": "python",
   "nbconvert_exporter": "python",
   "pygments_lexer": "ipython3",
   "version": "3.7.3"
  }
 },
 "nbformat": 4,
 "nbformat_minor": 2
}
