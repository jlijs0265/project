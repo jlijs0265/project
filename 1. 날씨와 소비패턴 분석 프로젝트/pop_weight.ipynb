{
 "cells": [
  {
   "cell_type": "code",
   "execution_count": 68,
   "metadata": {},
   "outputs": [],
   "source": [
    "import numpy as np\n",
    "import pandas as pd"
   ]
  },
  {
   "cell_type": "code",
   "execution_count": 144,
   "metadata": {},
   "outputs": [],
   "source": [
    "buy_2018 = pd.read_csv('C://pythonworks/miniminiproject/data/buy_2018.csv',  encoding='euc-kr')\n",
    "buy_2018 = buy_2018.iloc[:,1:]\n",
    "buy_2018['date'] = pd.to_datetime(buy_2018['date'])\n",
    "buy_2018['age'] = buy_2018['age'].astype('str')\n",
    "weight = pd.read_csv('C://pythonworks/miniminiproject/data/weight_2018 - 세종제외.csv')\n",
    "weather = pd.read_csv('C://pythonworks/miniminiproject/data/region_weather.csv',  encoding='euc-kr')"
   ]
  },
  {
   "cell_type": "code",
   "execution_count": 94,
   "metadata": {},
   "outputs": [
    {
     "data": {
      "text/plain": [
       "0         False\n",
       "1         False\n",
       "2         False\n",
       "3         False\n",
       "4          True\n",
       "5         False\n",
       "6         False\n",
       "7         False\n",
       "8         False\n",
       "9         False\n",
       "10        False\n",
       "11        False\n",
       "12        False\n",
       "13        False\n",
       "14        False\n",
       "15        False\n",
       "16        False\n",
       "17        False\n",
       "18        False\n",
       "19        False\n",
       "20        False\n",
       "21        False\n",
       "22        False\n",
       "23        False\n",
       "24        False\n",
       "25        False\n",
       "26        False\n",
       "27        False\n",
       "28        False\n",
       "29        False\n",
       "          ...  \n",
       "600582    False\n",
       "600583    False\n",
       "600584    False\n",
       "600585    False\n",
       "600586    False\n",
       "600587     True\n",
       "600588    False\n",
       "600589    False\n",
       "600590    False\n",
       "600591    False\n",
       "600592    False\n",
       "600593    False\n",
       "600594    False\n",
       "600595    False\n",
       "600596    False\n",
       "600597     True\n",
       "600598    False\n",
       "600599    False\n",
       "600600    False\n",
       "600601    False\n",
       "600602    False\n",
       "600603    False\n",
       "600604    False\n",
       "600605    False\n",
       "600606    False\n",
       "600607     True\n",
       "600608    False\n",
       "600609    False\n",
       "600610    False\n",
       "600611    False\n",
       "Length: 600612, dtype: bool"
      ]
     },
     "execution_count": 94,
     "metadata": {},
     "output_type": "execute_result"
    }
   ],
   "source": [
    "(buy_2018.sex=='M')&(buy_2018.age=='20')"
   ]
  },
  {
   "cell_type": "code",
   "execution_count": 147,
   "metadata": {},
   "outputs": [
    {
     "data": {
      "text/html": [
       "<div>\n",
       "<style scoped>\n",
       "    .dataframe tbody tr th:only-of-type {\n",
       "        vertical-align: middle;\n",
       "    }\n",
       "\n",
       "    .dataframe tbody tr th {\n",
       "        vertical-align: top;\n",
       "    }\n",
       "\n",
       "    .dataframe thead th {\n",
       "        text-align: right;\n",
       "    }\n",
       "</style>\n",
       "<table border=\"1\" class=\"dataframe\">\n",
       "  <thead>\n",
       "    <tr style=\"text-align: right;\">\n",
       "      <th></th>\n",
       "      <th>Unnamed: 0</th>\n",
       "      <th>행정구역별(읍면동)</th>\n",
       "      <th>총인구(명)</th>\n",
       "      <th>총인구_남자(명)</th>\n",
       "      <th>총인구_여자(명)</th>\n",
       "      <th>age</th>\n",
       "      <th>man_weight</th>\n",
       "      <th>woman_weight</th>\n",
       "      <th>Unnamed: 8</th>\n",
       "      <th>Unnamed: 9</th>\n",
       "    </tr>\n",
       "  </thead>\n",
       "  <tbody>\n",
       "    <tr>\n",
       "      <th>0</th>\n",
       "      <td>0</td>\n",
       "      <td>강원도</td>\n",
       "      <td>192236</td>\n",
       "      <td>110222</td>\n",
       "      <td>82014</td>\n",
       "      <td>20</td>\n",
       "      <td>0.029502</td>\n",
       "      <td>0.025090</td>\n",
       "      <td>3736125</td>\n",
       "      <td>3268841</td>\n",
       "    </tr>\n",
       "    <tr>\n",
       "      <th>15</th>\n",
       "      <td>16</td>\n",
       "      <td>경기도</td>\n",
       "      <td>1767281</td>\n",
       "      <td>949263</td>\n",
       "      <td>818018</td>\n",
       "      <td>20</td>\n",
       "      <td>0.254077</td>\n",
       "      <td>0.250247</td>\n",
       "      <td>3736125</td>\n",
       "      <td>3268841</td>\n",
       "    </tr>\n",
       "    <tr>\n",
       "      <th>12</th>\n",
       "      <td>13</td>\n",
       "      <td>경상남도</td>\n",
       "      <td>393322</td>\n",
       "      <td>224549</td>\n",
       "      <td>168773</td>\n",
       "      <td>20</td>\n",
       "      <td>0.060102</td>\n",
       "      <td>0.051631</td>\n",
       "      <td>3736125</td>\n",
       "      <td>3268841</td>\n",
       "    </tr>\n",
       "    <tr>\n",
       "      <th>9</th>\n",
       "      <td>10</td>\n",
       "      <td>경상북도</td>\n",
       "      <td>319936</td>\n",
       "      <td>183327</td>\n",
       "      <td>136609</td>\n",
       "      <td>20</td>\n",
       "      <td>0.049069</td>\n",
       "      <td>0.041791</td>\n",
       "      <td>3736125</td>\n",
       "      <td>3268841</td>\n",
       "    </tr>\n",
       "    <tr>\n",
       "      <th>11</th>\n",
       "      <td>12</td>\n",
       "      <td>광주광역시</td>\n",
       "      <td>218905</td>\n",
       "      <td>114641</td>\n",
       "      <td>104264</td>\n",
       "      <td>20</td>\n",
       "      <td>0.030684</td>\n",
       "      <td>0.031896</td>\n",
       "      <td>3736125</td>\n",
       "      <td>3268841</td>\n",
       "    </tr>\n",
       "    <tr>\n",
       "      <th>5</th>\n",
       "      <td>6</td>\n",
       "      <td>대구광역시</td>\n",
       "      <td>331747</td>\n",
       "      <td>180334</td>\n",
       "      <td>151413</td>\n",
       "      <td>20</td>\n",
       "      <td>0.048268</td>\n",
       "      <td>0.046320</td>\n",
       "      <td>3736125</td>\n",
       "      <td>3268841</td>\n",
       "    </tr>\n",
       "    <tr>\n",
       "      <th>3</th>\n",
       "      <td>3</td>\n",
       "      <td>대전광역시</td>\n",
       "      <td>236256</td>\n",
       "      <td>126722</td>\n",
       "      <td>109534</td>\n",
       "      <td>20</td>\n",
       "      <td>0.033918</td>\n",
       "      <td>0.033509</td>\n",
       "      <td>3736125</td>\n",
       "      <td>3268841</td>\n",
       "    </tr>\n",
       "    <tr>\n",
       "      <th>1</th>\n",
       "      <td>1</td>\n",
       "      <td>부산광역시</td>\n",
       "      <td>458036</td>\n",
       "      <td>241822</td>\n",
       "      <td>216214</td>\n",
       "      <td>20</td>\n",
       "      <td>0.064725</td>\n",
       "      <td>0.066144</td>\n",
       "      <td>3736125</td>\n",
       "      <td>3268841</td>\n",
       "    </tr>\n",
       "    <tr>\n",
       "      <th>7</th>\n",
       "      <td>8</td>\n",
       "      <td>서울특별시</td>\n",
       "      <td>1490977</td>\n",
       "      <td>725833</td>\n",
       "      <td>765144</td>\n",
       "      <td>20</td>\n",
       "      <td>0.194274</td>\n",
       "      <td>0.234072</td>\n",
       "      <td>3736125</td>\n",
       "      <td>3268841</td>\n",
       "    </tr>\n",
       "    <tr>\n",
       "      <th>2</th>\n",
       "      <td>2</td>\n",
       "      <td>울산광역시</td>\n",
       "      <td>150027</td>\n",
       "      <td>86189</td>\n",
       "      <td>63838</td>\n",
       "      <td>20</td>\n",
       "      <td>0.023069</td>\n",
       "      <td>0.019529</td>\n",
       "      <td>3736125</td>\n",
       "      <td>3268841</td>\n",
       "    </tr>\n",
       "    <tr>\n",
       "      <th>4</th>\n",
       "      <td>5</td>\n",
       "      <td>인천광역시</td>\n",
       "      <td>402803</td>\n",
       "      <td>212428</td>\n",
       "      <td>190375</td>\n",
       "      <td>20</td>\n",
       "      <td>0.056858</td>\n",
       "      <td>0.058239</td>\n",
       "      <td>3736125</td>\n",
       "      <td>3268841</td>\n",
       "    </tr>\n",
       "    <tr>\n",
       "      <th>6</th>\n",
       "      <td>7</td>\n",
       "      <td>전라남도</td>\n",
       "      <td>189330</td>\n",
       "      <td>107911</td>\n",
       "      <td>81419</td>\n",
       "      <td>20</td>\n",
       "      <td>0.028883</td>\n",
       "      <td>0.024908</td>\n",
       "      <td>3736125</td>\n",
       "      <td>3268841</td>\n",
       "    </tr>\n",
       "    <tr>\n",
       "      <th>8</th>\n",
       "      <td>9</td>\n",
       "      <td>전라북도</td>\n",
       "      <td>228970</td>\n",
       "      <td>125921</td>\n",
       "      <td>103049</td>\n",
       "      <td>20</td>\n",
       "      <td>0.033704</td>\n",
       "      <td>0.031525</td>\n",
       "      <td>3736125</td>\n",
       "      <td>3268841</td>\n",
       "    </tr>\n",
       "    <tr>\n",
       "      <th>10</th>\n",
       "      <td>11</td>\n",
       "      <td>제주특별자치도</td>\n",
       "      <td>81493</td>\n",
       "      <td>44368</td>\n",
       "      <td>37125</td>\n",
       "      <td>20</td>\n",
       "      <td>0.011875</td>\n",
       "      <td>0.011357</td>\n",
       "      <td>3736125</td>\n",
       "      <td>3268841</td>\n",
       "    </tr>\n",
       "    <tr>\n",
       "      <th>13</th>\n",
       "      <td>14</td>\n",
       "      <td>충청남도</td>\n",
       "      <td>322483</td>\n",
       "      <td>178072</td>\n",
       "      <td>144411</td>\n",
       "      <td>20</td>\n",
       "      <td>0.047662</td>\n",
       "      <td>0.044178</td>\n",
       "      <td>3736125</td>\n",
       "      <td>3268841</td>\n",
       "    </tr>\n",
       "    <tr>\n",
       "      <th>14</th>\n",
       "      <td>15</td>\n",
       "      <td>충청북도</td>\n",
       "      <td>221164</td>\n",
       "      <td>124523</td>\n",
       "      <td>96641</td>\n",
       "      <td>20</td>\n",
       "      <td>0.033329</td>\n",
       "      <td>0.029564</td>\n",
       "      <td>3736125</td>\n",
       "      <td>3268841</td>\n",
       "    </tr>\n",
       "  </tbody>\n",
       "</table>\n",
       "</div>"
      ],
      "text/plain": [
       "    Unnamed: 0 행정구역별(읍면동)   총인구(명)  총인구_남자(명)  총인구_여자(명)  age  man_weight  \\\n",
       "0            0        강원도   192236     110222      82014   20    0.029502   \n",
       "15          16        경기도  1767281     949263     818018   20    0.254077   \n",
       "12          13       경상남도   393322     224549     168773   20    0.060102   \n",
       "9           10       경상북도   319936     183327     136609   20    0.049069   \n",
       "11          12      광주광역시   218905     114641     104264   20    0.030684   \n",
       "5            6      대구광역시   331747     180334     151413   20    0.048268   \n",
       "3            3      대전광역시   236256     126722     109534   20    0.033918   \n",
       "1            1      부산광역시   458036     241822     216214   20    0.064725   \n",
       "7            8      서울특별시  1490977     725833     765144   20    0.194274   \n",
       "2            2      울산광역시   150027      86189      63838   20    0.023069   \n",
       "4            5      인천광역시   402803     212428     190375   20    0.056858   \n",
       "6            7       전라남도   189330     107911      81419   20    0.028883   \n",
       "8            9       전라북도   228970     125921     103049   20    0.033704   \n",
       "10          11    제주특별자치도    81493      44368      37125   20    0.011875   \n",
       "13          14       충청남도   322483     178072     144411   20    0.047662   \n",
       "14          15       충청북도   221164     124523      96641   20    0.033329   \n",
       "\n",
       "    woman_weight  Unnamed: 8  Unnamed: 9  \n",
       "0       0.025090     3736125     3268841  \n",
       "15      0.250247     3736125     3268841  \n",
       "12      0.051631     3736125     3268841  \n",
       "9       0.041791     3736125     3268841  \n",
       "11      0.031896     3736125     3268841  \n",
       "5       0.046320     3736125     3268841  \n",
       "3       0.033509     3736125     3268841  \n",
       "1       0.066144     3736125     3268841  \n",
       "7       0.234072     3736125     3268841  \n",
       "2       0.019529     3736125     3268841  \n",
       "4       0.058239     3736125     3268841  \n",
       "6       0.024908     3736125     3268841  \n",
       "8       0.031525     3736125     3268841  \n",
       "10      0.011357     3736125     3268841  \n",
       "13      0.044178     3736125     3268841  \n",
       "14      0.029564     3736125     3268841  "
      ]
     },
     "execution_count": 147,
     "metadata": {},
     "output_type": "execute_result"
    }
   ],
   "source": [
    "weight.loc[weight.age==20].sort_values('행정구역별(읍면동)')"
   ]
  },
  {
   "cell_type": "code",
   "execution_count": 149,
   "metadata": {},
   "outputs": [],
   "source": [
    "weight_temp = weight.loc[weight.age==20].sort_values('행정구역별(읍면동)')[['행정구역별(읍면동)','man_weight']]"
   ]
  },
  {
   "cell_type": "code",
   "execution_count": 153,
   "metadata": {},
   "outputs": [
    {
     "data": {
      "text/plain": [
       "1.00000000001"
      ]
     },
     "execution_count": 153,
     "metadata": {},
     "output_type": "execute_result"
    }
   ],
   "source": [
    "weight_temp['man_weight'].sum()"
   ]
  },
  {
   "cell_type": "code",
   "execution_count": 156,
   "metadata": {},
   "outputs": [
    {
     "data": {
      "text/plain": [
       "array([['강원도', 0.02950168958],\n",
       "       ['경기도', 0.2540768845],\n",
       "       ['경상남도', 0.06010211114],\n",
       "       ['경상북도', 0.04906875438999999],\n",
       "       ['광주광역시', 0.030684465860000003],\n",
       "       ['대구광역시', 0.048267657],\n",
       "       ['대전광역시', 0.03391803004],\n",
       "       ['부산광역시', 0.06472535046],\n",
       "       ['서울특별시', 0.19427428149999998],\n",
       "       ['울산광역시', 0.023069088959999998],\n",
       "       ['인천광역시', 0.05685784068],\n",
       "       ['전라남도', 0.028883134260000005],\n",
       "       ['전라북도', 0.03370363679],\n",
       "       ['제주특별자치도', 0.01187540567],\n",
       "       ['충청남도', 0.047662216869999996],\n",
       "       ['충청북도', 0.03332945231]], dtype=object)"
      ]
     },
     "execution_count": 156,
     "metadata": {},
     "output_type": "execute_result"
    }
   ],
   "source": [
    "np.array(weight_temp)"
   ]
  },
  {
   "cell_type": "code",
   "execution_count": 157,
   "metadata": {},
   "outputs": [
    {
     "data": {
      "text/html": [
       "<div>\n",
       "<style scoped>\n",
       "    .dataframe tbody tr th:only-of-type {\n",
       "        vertical-align: middle;\n",
       "    }\n",
       "\n",
       "    .dataframe tbody tr th {\n",
       "        vertical-align: top;\n",
       "    }\n",
       "\n",
       "    .dataframe thead th {\n",
       "        text-align: right;\n",
       "    }\n",
       "</style>\n",
       "<table border=\"1\" class=\"dataframe\">\n",
       "  <thead>\n",
       "    <tr style=\"text-align: right;\">\n",
       "      <th></th>\n",
       "      <th>0</th>\n",
       "      <th>15</th>\n",
       "      <th>12</th>\n",
       "      <th>9</th>\n",
       "      <th>11</th>\n",
       "      <th>5</th>\n",
       "      <th>3</th>\n",
       "      <th>1</th>\n",
       "      <th>7</th>\n",
       "      <th>2</th>\n",
       "      <th>4</th>\n",
       "      <th>6</th>\n",
       "      <th>8</th>\n",
       "      <th>10</th>\n",
       "      <th>13</th>\n",
       "      <th>14</th>\n",
       "    </tr>\n",
       "  </thead>\n",
       "  <tbody>\n",
       "    <tr>\n",
       "      <th>행정구역별(읍면동)</th>\n",
       "      <td>강원도</td>\n",
       "      <td>경기도</td>\n",
       "      <td>경상남도</td>\n",
       "      <td>경상북도</td>\n",
       "      <td>광주광역시</td>\n",
       "      <td>대구광역시</td>\n",
       "      <td>대전광역시</td>\n",
       "      <td>부산광역시</td>\n",
       "      <td>서울특별시</td>\n",
       "      <td>울산광역시</td>\n",
       "      <td>인천광역시</td>\n",
       "      <td>전라남도</td>\n",
       "      <td>전라북도</td>\n",
       "      <td>제주특별자치도</td>\n",
       "      <td>충청남도</td>\n",
       "      <td>충청북도</td>\n",
       "    </tr>\n",
       "    <tr>\n",
       "      <th>man_weight</th>\n",
       "      <td>0.0295017</td>\n",
       "      <td>0.254077</td>\n",
       "      <td>0.0601021</td>\n",
       "      <td>0.0490688</td>\n",
       "      <td>0.0306845</td>\n",
       "      <td>0.0482677</td>\n",
       "      <td>0.033918</td>\n",
       "      <td>0.0647254</td>\n",
       "      <td>0.194274</td>\n",
       "      <td>0.0230691</td>\n",
       "      <td>0.0568578</td>\n",
       "      <td>0.0288831</td>\n",
       "      <td>0.0337036</td>\n",
       "      <td>0.0118754</td>\n",
       "      <td>0.0476622</td>\n",
       "      <td>0.0333295</td>\n",
       "    </tr>\n",
       "  </tbody>\n",
       "</table>\n",
       "</div>"
      ],
      "text/plain": [
       "                   0         15         12         9          11         5   \\\n",
       "행정구역별(읍면동)        강원도       경기도       경상남도       경상북도      광주광역시      대구광역시   \n",
       "man_weight  0.0295017  0.254077  0.0601021  0.0490688  0.0306845  0.0482677   \n",
       "\n",
       "                  3          1         7          2          4          6   \\\n",
       "행정구역별(읍면동)     대전광역시      부산광역시     서울특별시      울산광역시      인천광역시       전라남도   \n",
       "man_weight  0.033918  0.0647254  0.194274  0.0230691  0.0568578  0.0288831   \n",
       "\n",
       "                   8          10         13         14  \n",
       "행정구역별(읍면동)       전라북도    제주특별자치도       충청남도       충청북도  \n",
       "man_weight  0.0337036  0.0118754  0.0476622  0.0333295  "
      ]
     },
     "execution_count": 157,
     "metadata": {},
     "output_type": "execute_result"
    }
   ],
   "source": [
    "weight_temp.T"
   ]
  },
  {
   "cell_type": "code",
   "execution_count": 146,
   "metadata": {},
   "outputs": [
    {
     "data": {
      "text/plain": [
       "Unnamed: 0                                                   3369\n",
       "행정구역별(읍면동)      강원도부산광역시울산광역시대전광역시인천광역시대구광역시전라남도서울특별시전라북도경상북도제...\n",
       "총인구(명)                                                   37230744\n",
       "총인구_남자(명)                                                19016407\n",
       "총인구_여자(명)                                                18214337\n",
       "age                                                          3200\n",
       "man_weight                                                      5\n",
       "woman_weight                                                    5\n",
       "Unnamed: 8                                              304262512\n",
       "Unnamed: 9                                              291429392\n",
       "dtype: object"
      ]
     },
     "execution_count": 146,
     "metadata": {},
     "output_type": "execute_result"
    }
   ],
   "source": [
    "weight.sum()"
   ]
  },
  {
   "cell_type": "code",
   "execution_count": 102,
   "metadata": {},
   "outputs": [
    {
     "data": {
      "text/plain": [
       "0          True\n",
       "1          True\n",
       "2          True\n",
       "3          True\n",
       "4          True\n",
       "5          True\n",
       "6          True\n",
       "7          True\n",
       "8          True\n",
       "9          True\n",
       "10         True\n",
       "11         True\n",
       "12         True\n",
       "13         True\n",
       "14         True\n",
       "15         True\n",
       "16         True\n",
       "17         True\n",
       "18         True\n",
       "19         True\n",
       "20         True\n",
       "21         True\n",
       "22         True\n",
       "23         True\n",
       "24         True\n",
       "25         True\n",
       "26         True\n",
       "27         True\n",
       "28         True\n",
       "29         True\n",
       "          ...  \n",
       "600582    False\n",
       "600583    False\n",
       "600584    False\n",
       "600585    False\n",
       "600586    False\n",
       "600587    False\n",
       "600588    False\n",
       "600589    False\n",
       "600590    False\n",
       "600591    False\n",
       "600592    False\n",
       "600593    False\n",
       "600594    False\n",
       "600595    False\n",
       "600596    False\n",
       "600597    False\n",
       "600598    False\n",
       "600599    False\n",
       "600600    False\n",
       "600601    False\n",
       "600602    False\n",
       "600603    False\n",
       "600604    False\n",
       "600605    False\n",
       "600606    False\n",
       "600607    False\n",
       "600608    False\n",
       "600609    False\n",
       "600610    False\n",
       "600611    False\n",
       "Name: date, Length: 600612, dtype: bool"
      ]
     },
     "execution_count": 102,
     "metadata": {},
     "output_type": "execute_result"
    }
   ],
   "source": [
    "(buy_2018.date=='2018-01-01')"
   ]
  },
  {
   "cell_type": "code",
   "execution_count": 104,
   "metadata": {},
   "outputs": [
    {
     "data": {
      "text/plain": [
       "0         True\n",
       "1        False\n",
       "2        False\n",
       "3        False\n",
       "4        False\n",
       "5        False\n",
       "6        False\n",
       "7        False\n",
       "8        False\n",
       "9        False\n",
       "10       False\n",
       "11       False\n",
       "12       False\n",
       "13       False\n",
       "14       False\n",
       "15       False\n",
       "16       False\n",
       "17       False\n",
       "18       False\n",
       "19       False\n",
       "20       False\n",
       "21       False\n",
       "22       False\n",
       "23       False\n",
       "24       False\n",
       "25       False\n",
       "26       False\n",
       "27       False\n",
       "28       False\n",
       "29       False\n",
       "         ...  \n",
       "11865    False\n",
       "11866    False\n",
       "11867    False\n",
       "11868    False\n",
       "11869    False\n",
       "11870    False\n",
       "11871    False\n",
       "11872    False\n",
       "11873    False\n",
       "11874    False\n",
       "11875    False\n",
       "11876    False\n",
       "11877    False\n",
       "11878    False\n",
       "11879    False\n",
       "11880    False\n",
       "11881    False\n",
       "11882    False\n",
       "11883    False\n",
       "11884    False\n",
       "11885    False\n",
       "11886    False\n",
       "11887    False\n",
       "11888    False\n",
       "11889    False\n",
       "11890    False\n",
       "11891    False\n",
       "11892    False\n",
       "11893    False\n",
       "11894    False\n",
       "Name: 일시, Length: 11895, dtype: bool"
      ]
     },
     "execution_count": 104,
     "metadata": {},
     "output_type": "execute_result"
    }
   ],
   "source": [
    "(weather.일시 =='2018-01-01')"
   ]
  },
  {
   "cell_type": "code",
   "execution_count": 113,
   "metadata": {},
   "outputs": [
    {
     "data": {
      "text/html": [
       "<div>\n",
       "<style scoped>\n",
       "    .dataframe tbody tr th:only-of-type {\n",
       "        vertical-align: middle;\n",
       "    }\n",
       "\n",
       "    .dataframe tbody tr th {\n",
       "        vertical-align: top;\n",
       "    }\n",
       "\n",
       "    .dataframe thead th {\n",
       "        text-align: right;\n",
       "    }\n",
       "</style>\n",
       "<table border=\"1\" class=\"dataframe\">\n",
       "  <thead>\n",
       "    <tr style=\"text-align: right;\">\n",
       "      <th></th>\n",
       "      <th>지점명</th>\n",
       "      <th>일시</th>\n",
       "      <th>평균기온</th>\n",
       "      <th>최저기온</th>\n",
       "      <th>최고기온</th>\n",
       "      <th>강수계속시간</th>\n",
       "      <th>일강수량</th>\n",
       "      <th>최대풍속</th>\n",
       "      <th>평균풍속</th>\n",
       "      <th>최소상대습도</th>\n",
       "      <th>...</th>\n",
       "      <th>가조시간</th>\n",
       "      <th>합계일조시간</th>\n",
       "      <th>합계일사량</th>\n",
       "      <th>일최심신적설</th>\n",
       "      <th>일최심적설</th>\n",
       "      <th>평균중하층운량</th>\n",
       "      <th>평균지면온도</th>\n",
       "      <th>합계대형증발량</th>\n",
       "      <th>합계소형증발량</th>\n",
       "      <th>안개계속시간</th>\n",
       "    </tr>\n",
       "  </thead>\n",
       "  <tbody>\n",
       "    <tr>\n",
       "      <th>0</th>\n",
       "      <td>강원도</td>\n",
       "      <td>2018-01-01</td>\n",
       "      <td>-4.5</td>\n",
       "      <td>-10.5</td>\n",
       "      <td>3.4</td>\n",
       "      <td>NaN</td>\n",
       "      <td>NaN</td>\n",
       "      <td>3.6</td>\n",
       "      <td>1.0</td>\n",
       "      <td>20.0</td>\n",
       "      <td>...</td>\n",
       "      <td>9.6</td>\n",
       "      <td>8.0</td>\n",
       "      <td>10.90</td>\n",
       "      <td>NaN</td>\n",
       "      <td>NaN</td>\n",
       "      <td>NaN</td>\n",
       "      <td>-2.8</td>\n",
       "      <td>1.2</td>\n",
       "      <td>1.7</td>\n",
       "      <td>NaN</td>\n",
       "    </tr>\n",
       "    <tr>\n",
       "      <th>2190</th>\n",
       "      <td>경기도</td>\n",
       "      <td>2018-01-01</td>\n",
       "      <td>-1.7</td>\n",
       "      <td>-6.9</td>\n",
       "      <td>4.7</td>\n",
       "      <td>NaN</td>\n",
       "      <td>NaN</td>\n",
       "      <td>3.4</td>\n",
       "      <td>1.0</td>\n",
       "      <td>25.0</td>\n",
       "      <td>...</td>\n",
       "      <td>9.7</td>\n",
       "      <td>8.3</td>\n",
       "      <td>7.56</td>\n",
       "      <td>NaN</td>\n",
       "      <td>NaN</td>\n",
       "      <td>0.9</td>\n",
       "      <td>-1.2</td>\n",
       "      <td>0.9</td>\n",
       "      <td>1.3</td>\n",
       "      <td>NaN</td>\n",
       "    </tr>\n",
       "    <tr>\n",
       "      <th>7300</th>\n",
       "      <td>경상남도</td>\n",
       "      <td>2018-01-01</td>\n",
       "      <td>1.8</td>\n",
       "      <td>-1.9</td>\n",
       "      <td>5.5</td>\n",
       "      <td>NaN</td>\n",
       "      <td>NaN</td>\n",
       "      <td>5.3</td>\n",
       "      <td>1.8</td>\n",
       "      <td>18.0</td>\n",
       "      <td>...</td>\n",
       "      <td>9.8</td>\n",
       "      <td>8.7</td>\n",
       "      <td>12.32</td>\n",
       "      <td>NaN</td>\n",
       "      <td>NaN</td>\n",
       "      <td>0.0</td>\n",
       "      <td>1.9</td>\n",
       "      <td>1.8</td>\n",
       "      <td>2.6</td>\n",
       "      <td>NaN</td>\n",
       "    </tr>\n",
       "    <tr>\n",
       "      <th>4380</th>\n",
       "      <td>경상북도</td>\n",
       "      <td>2018-01-01</td>\n",
       "      <td>2.0</td>\n",
       "      <td>-1.1</td>\n",
       "      <td>6.2</td>\n",
       "      <td>NaN</td>\n",
       "      <td>NaN</td>\n",
       "      <td>5.5</td>\n",
       "      <td>2.7</td>\n",
       "      <td>20.0</td>\n",
       "      <td>...</td>\n",
       "      <td>9.8</td>\n",
       "      <td>8.9</td>\n",
       "      <td>6.65</td>\n",
       "      <td>NaN</td>\n",
       "      <td>NaN</td>\n",
       "      <td>0.0</td>\n",
       "      <td>1.1</td>\n",
       "      <td>1.7</td>\n",
       "      <td>2.4</td>\n",
       "      <td>NaN</td>\n",
       "    </tr>\n",
       "    <tr>\n",
       "      <th>8030</th>\n",
       "      <td>광주광역시</td>\n",
       "      <td>2018-01-01</td>\n",
       "      <td>2.3</td>\n",
       "      <td>-1.0</td>\n",
       "      <td>7.1</td>\n",
       "      <td>NaN</td>\n",
       "      <td>NaN</td>\n",
       "      <td>3.7</td>\n",
       "      <td>1.6</td>\n",
       "      <td>33.0</td>\n",
       "      <td>...</td>\n",
       "      <td>9.8</td>\n",
       "      <td>8.9</td>\n",
       "      <td>12.02</td>\n",
       "      <td>NaN</td>\n",
       "      <td>NaN</td>\n",
       "      <td>0.4</td>\n",
       "      <td>1.3</td>\n",
       "      <td>1.5</td>\n",
       "      <td>2.1</td>\n",
       "      <td>NaN</td>\n",
       "    </tr>\n",
       "    <tr>\n",
       "      <th>5110</th>\n",
       "      <td>대구광역시</td>\n",
       "      <td>2018-01-01</td>\n",
       "      <td>1.3</td>\n",
       "      <td>-1.3</td>\n",
       "      <td>5.0</td>\n",
       "      <td>NaN</td>\n",
       "      <td>NaN</td>\n",
       "      <td>7.7</td>\n",
       "      <td>3.1</td>\n",
       "      <td>18.0</td>\n",
       "      <td>...</td>\n",
       "      <td>9.8</td>\n",
       "      <td>9.0</td>\n",
       "      <td>10.87</td>\n",
       "      <td>NaN</td>\n",
       "      <td>NaN</td>\n",
       "      <td>0.0</td>\n",
       "      <td>0.9</td>\n",
       "      <td>1.9</td>\n",
       "      <td>2.7</td>\n",
       "      <td>NaN</td>\n",
       "    </tr>\n",
       "    <tr>\n",
       "      <th>3650</th>\n",
       "      <td>대전광역시</td>\n",
       "      <td>2018-01-01</td>\n",
       "      <td>-0.7</td>\n",
       "      <td>-5.3</td>\n",
       "      <td>4.9</td>\n",
       "      <td>NaN</td>\n",
       "      <td>NaN</td>\n",
       "      <td>2.7</td>\n",
       "      <td>1.0</td>\n",
       "      <td>26.0</td>\n",
       "      <td>...</td>\n",
       "      <td>9.7</td>\n",
       "      <td>8.0</td>\n",
       "      <td>6.41</td>\n",
       "      <td>NaN</td>\n",
       "      <td>NaN</td>\n",
       "      <td>0.5</td>\n",
       "      <td>-0.2</td>\n",
       "      <td>0.8</td>\n",
       "      <td>1.2</td>\n",
       "      <td>NaN</td>\n",
       "    </tr>\n",
       "    <tr>\n",
       "      <th>8760</th>\n",
       "      <td>부산광역시</td>\n",
       "      <td>2018-01-01</td>\n",
       "      <td>2.7</td>\n",
       "      <td>-1.1</td>\n",
       "      <td>7.4</td>\n",
       "      <td>NaN</td>\n",
       "      <td>NaN</td>\n",
       "      <td>7.6</td>\n",
       "      <td>2.7</td>\n",
       "      <td>19.0</td>\n",
       "      <td>...</td>\n",
       "      <td>9.9</td>\n",
       "      <td>9.3</td>\n",
       "      <td>11.66</td>\n",
       "      <td>NaN</td>\n",
       "      <td>NaN</td>\n",
       "      <td>0.0</td>\n",
       "      <td>1.5</td>\n",
       "      <td>2.4</td>\n",
       "      <td>3.4</td>\n",
       "      <td>NaN</td>\n",
       "    </tr>\n",
       "    <tr>\n",
       "      <th>730</th>\n",
       "      <td>서울특별시</td>\n",
       "      <td>2018-01-01</td>\n",
       "      <td>-1.3</td>\n",
       "      <td>-5.1</td>\n",
       "      <td>3.8</td>\n",
       "      <td>NaN</td>\n",
       "      <td>NaN</td>\n",
       "      <td>3.8</td>\n",
       "      <td>1.4</td>\n",
       "      <td>19.0</td>\n",
       "      <td>...</td>\n",
       "      <td>9.6</td>\n",
       "      <td>8.3</td>\n",
       "      <td>6.14</td>\n",
       "      <td>NaN</td>\n",
       "      <td>NaN</td>\n",
       "      <td>0.9</td>\n",
       "      <td>-1.7</td>\n",
       "      <td>1.1</td>\n",
       "      <td>1.6</td>\n",
       "      <td>NaN</td>\n",
       "    </tr>\n",
       "    <tr>\n",
       "      <th>6570</th>\n",
       "      <td>울산광역시</td>\n",
       "      <td>2018-01-01</td>\n",
       "      <td>2.1</td>\n",
       "      <td>-0.4</td>\n",
       "      <td>6.2</td>\n",
       "      <td>NaN</td>\n",
       "      <td>NaN</td>\n",
       "      <td>7.1</td>\n",
       "      <td>3.3</td>\n",
       "      <td>17.0</td>\n",
       "      <td>...</td>\n",
       "      <td>9.8</td>\n",
       "      <td>9.1</td>\n",
       "      <td>NaN</td>\n",
       "      <td>NaN</td>\n",
       "      <td>NaN</td>\n",
       "      <td>0.0</td>\n",
       "      <td>0.7</td>\n",
       "      <td>NaN</td>\n",
       "      <td>NaN</td>\n",
       "      <td>NaN</td>\n",
       "    </tr>\n",
       "    <tr>\n",
       "      <th>1460</th>\n",
       "      <td>인천광역시</td>\n",
       "      <td>2018-01-01</td>\n",
       "      <td>-0.3</td>\n",
       "      <td>-2.7</td>\n",
       "      <td>2.7</td>\n",
       "      <td>NaN</td>\n",
       "      <td>NaN</td>\n",
       "      <td>2.9</td>\n",
       "      <td>1.6</td>\n",
       "      <td>22.0</td>\n",
       "      <td>...</td>\n",
       "      <td>9.6</td>\n",
       "      <td>8.7</td>\n",
       "      <td>4.82</td>\n",
       "      <td>NaN</td>\n",
       "      <td>NaN</td>\n",
       "      <td>0.3</td>\n",
       "      <td>-1.1</td>\n",
       "      <td>1.0</td>\n",
       "      <td>1.4</td>\n",
       "      <td>NaN</td>\n",
       "    </tr>\n",
       "    <tr>\n",
       "      <th>9490</th>\n",
       "      <td>전라남도</td>\n",
       "      <td>2018-01-01</td>\n",
       "      <td>3.3</td>\n",
       "      <td>-0.2</td>\n",
       "      <td>7.2</td>\n",
       "      <td>NaN</td>\n",
       "      <td>NaN</td>\n",
       "      <td>9.2</td>\n",
       "      <td>4.5</td>\n",
       "      <td>31.0</td>\n",
       "      <td>...</td>\n",
       "      <td>9.9</td>\n",
       "      <td>8.6</td>\n",
       "      <td>8.25</td>\n",
       "      <td>NaN</td>\n",
       "      <td>NaN</td>\n",
       "      <td>0.0</td>\n",
       "      <td>3.8</td>\n",
       "      <td>2.1</td>\n",
       "      <td>3.1</td>\n",
       "      <td>NaN</td>\n",
       "    </tr>\n",
       "    <tr>\n",
       "      <th>5840</th>\n",
       "      <td>전라북도</td>\n",
       "      <td>2018-01-01</td>\n",
       "      <td>1.0</td>\n",
       "      <td>-2.7</td>\n",
       "      <td>5.2</td>\n",
       "      <td>NaN</td>\n",
       "      <td>NaN</td>\n",
       "      <td>4.3</td>\n",
       "      <td>1.2</td>\n",
       "      <td>32.0</td>\n",
       "      <td>...</td>\n",
       "      <td>9.8</td>\n",
       "      <td>8.2</td>\n",
       "      <td>10.96</td>\n",
       "      <td>NaN</td>\n",
       "      <td>NaN</td>\n",
       "      <td>0.6</td>\n",
       "      <td>1.5</td>\n",
       "      <td>1.3</td>\n",
       "      <td>1.9</td>\n",
       "      <td>NaN</td>\n",
       "    </tr>\n",
       "    <tr>\n",
       "      <th>10220</th>\n",
       "      <td>제주특별자치도</td>\n",
       "      <td>2018-01-01</td>\n",
       "      <td>6.4</td>\n",
       "      <td>4.0</td>\n",
       "      <td>8.8</td>\n",
       "      <td>NaN</td>\n",
       "      <td>NaN</td>\n",
       "      <td>7.2</td>\n",
       "      <td>3.5</td>\n",
       "      <td>41.0</td>\n",
       "      <td>...</td>\n",
       "      <td>10.0</td>\n",
       "      <td>2.7</td>\n",
       "      <td>5.97</td>\n",
       "      <td>NaN</td>\n",
       "      <td>NaN</td>\n",
       "      <td>5.3</td>\n",
       "      <td>5.6</td>\n",
       "      <td>1.4</td>\n",
       "      <td>2.0</td>\n",
       "      <td>NaN</td>\n",
       "    </tr>\n",
       "    <tr>\n",
       "      <th>10950</th>\n",
       "      <td>충청남도</td>\n",
       "      <td>2018-01-01</td>\n",
       "      <td>-2.8</td>\n",
       "      <td>-8.5</td>\n",
       "      <td>3.8</td>\n",
       "      <td>NaN</td>\n",
       "      <td>NaN</td>\n",
       "      <td>3.4</td>\n",
       "      <td>0.9</td>\n",
       "      <td>26.0</td>\n",
       "      <td>...</td>\n",
       "      <td>9.7</td>\n",
       "      <td>8.0</td>\n",
       "      <td>NaN</td>\n",
       "      <td>NaN</td>\n",
       "      <td>NaN</td>\n",
       "      <td>NaN</td>\n",
       "      <td>-1.1</td>\n",
       "      <td>NaN</td>\n",
       "      <td>NaN</td>\n",
       "      <td>NaN</td>\n",
       "    </tr>\n",
       "    <tr>\n",
       "      <th>2920</th>\n",
       "      <td>충청북도</td>\n",
       "      <td>2018-01-01</td>\n",
       "      <td>-0.2</td>\n",
       "      <td>-4.3</td>\n",
       "      <td>4.7</td>\n",
       "      <td>NaN</td>\n",
       "      <td>NaN</td>\n",
       "      <td>3.1</td>\n",
       "      <td>1.1</td>\n",
       "      <td>29.0</td>\n",
       "      <td>...</td>\n",
       "      <td>9.7</td>\n",
       "      <td>8.6</td>\n",
       "      <td>9.12</td>\n",
       "      <td>NaN</td>\n",
       "      <td>NaN</td>\n",
       "      <td>0.3</td>\n",
       "      <td>-1.0</td>\n",
       "      <td>1.1</td>\n",
       "      <td>1.6</td>\n",
       "      <td>NaN</td>\n",
       "    </tr>\n",
       "  </tbody>\n",
       "</table>\n",
       "<p>16 rows × 22 columns</p>\n",
       "</div>"
      ],
      "text/plain": [
       "           지점명          일시  평균기온  최저기온  최고기온  강수계속시간  일강수량  최대풍속  평균풍속  \\\n",
       "0          강원도  2018-01-01  -4.5 -10.5   3.4     NaN   NaN   3.6   1.0   \n",
       "2190       경기도  2018-01-01  -1.7  -6.9   4.7     NaN   NaN   3.4   1.0   \n",
       "7300      경상남도  2018-01-01   1.8  -1.9   5.5     NaN   NaN   5.3   1.8   \n",
       "4380      경상북도  2018-01-01   2.0  -1.1   6.2     NaN   NaN   5.5   2.7   \n",
       "8030     광주광역시  2018-01-01   2.3  -1.0   7.1     NaN   NaN   3.7   1.6   \n",
       "5110     대구광역시  2018-01-01   1.3  -1.3   5.0     NaN   NaN   7.7   3.1   \n",
       "3650     대전광역시  2018-01-01  -0.7  -5.3   4.9     NaN   NaN   2.7   1.0   \n",
       "8760     부산광역시  2018-01-01   2.7  -1.1   7.4     NaN   NaN   7.6   2.7   \n",
       "730      서울특별시  2018-01-01  -1.3  -5.1   3.8     NaN   NaN   3.8   1.4   \n",
       "6570     울산광역시  2018-01-01   2.1  -0.4   6.2     NaN   NaN   7.1   3.3   \n",
       "1460     인천광역시  2018-01-01  -0.3  -2.7   2.7     NaN   NaN   2.9   1.6   \n",
       "9490      전라남도  2018-01-01   3.3  -0.2   7.2     NaN   NaN   9.2   4.5   \n",
       "5840      전라북도  2018-01-01   1.0  -2.7   5.2     NaN   NaN   4.3   1.2   \n",
       "10220  제주특별자치도  2018-01-01   6.4   4.0   8.8     NaN   NaN   7.2   3.5   \n",
       "10950     충청남도  2018-01-01  -2.8  -8.5   3.8     NaN   NaN   3.4   0.9   \n",
       "2920      충청북도  2018-01-01  -0.2  -4.3   4.7     NaN   NaN   3.1   1.1   \n",
       "\n",
       "       최소상대습도  ...  가조시간  합계일조시간  합계일사량  일최심신적설  일최심적설  평균중하층운량  평균지면온도  \\\n",
       "0        20.0  ...   9.6     8.0  10.90     NaN    NaN      NaN    -2.8   \n",
       "2190     25.0  ...   9.7     8.3   7.56     NaN    NaN      0.9    -1.2   \n",
       "7300     18.0  ...   9.8     8.7  12.32     NaN    NaN      0.0     1.9   \n",
       "4380     20.0  ...   9.8     8.9   6.65     NaN    NaN      0.0     1.1   \n",
       "8030     33.0  ...   9.8     8.9  12.02     NaN    NaN      0.4     1.3   \n",
       "5110     18.0  ...   9.8     9.0  10.87     NaN    NaN      0.0     0.9   \n",
       "3650     26.0  ...   9.7     8.0   6.41     NaN    NaN      0.5    -0.2   \n",
       "8760     19.0  ...   9.9     9.3  11.66     NaN    NaN      0.0     1.5   \n",
       "730      19.0  ...   9.6     8.3   6.14     NaN    NaN      0.9    -1.7   \n",
       "6570     17.0  ...   9.8     9.1    NaN     NaN    NaN      0.0     0.7   \n",
       "1460     22.0  ...   9.6     8.7   4.82     NaN    NaN      0.3    -1.1   \n",
       "9490     31.0  ...   9.9     8.6   8.25     NaN    NaN      0.0     3.8   \n",
       "5840     32.0  ...   9.8     8.2  10.96     NaN    NaN      0.6     1.5   \n",
       "10220    41.0  ...  10.0     2.7   5.97     NaN    NaN      5.3     5.6   \n",
       "10950    26.0  ...   9.7     8.0    NaN     NaN    NaN      NaN    -1.1   \n",
       "2920     29.0  ...   9.7     8.6   9.12     NaN    NaN      0.3    -1.0   \n",
       "\n",
       "       합계대형증발량  합계소형증발량  안개계속시간  \n",
       "0          1.2      1.7     NaN  \n",
       "2190       0.9      1.3     NaN  \n",
       "7300       1.8      2.6     NaN  \n",
       "4380       1.7      2.4     NaN  \n",
       "8030       1.5      2.1     NaN  \n",
       "5110       1.9      2.7     NaN  \n",
       "3650       0.8      1.2     NaN  \n",
       "8760       2.4      3.4     NaN  \n",
       "730        1.1      1.6     NaN  \n",
       "6570       NaN      NaN     NaN  \n",
       "1460       1.0      1.4     NaN  \n",
       "9490       2.1      3.1     NaN  \n",
       "5840       1.3      1.9     NaN  \n",
       "10220      1.4      2.0     NaN  \n",
       "10950      NaN      NaN     NaN  \n",
       "2920       1.1      1.6     NaN  \n",
       "\n",
       "[16 rows x 22 columns]"
      ]
     },
     "execution_count": 113,
     "metadata": {},
     "output_type": "execute_result"
    }
   ],
   "source": [
    "weather.loc[weather.일시 =='2018-01-01'].sort_values('지점명')"
   ]
  },
  {
   "cell_type": "code",
   "execution_count": 118,
   "metadata": {},
   "outputs": [],
   "source": [
    "weather_temp = weather.loc[weather.일시 =='2018-01-01'].sort_values('지점명')['평균기온']"
   ]
  },
  {
   "cell_type": "code",
   "execution_count": 122,
   "metadata": {},
   "outputs": [
    {
     "data": {
      "text/plain": [
       "0.06850624642709996"
      ]
     },
     "execution_count": 122,
     "metadata": {},
     "output_type": "execute_result"
    }
   ],
   "source": [
    "np.dot(weight_temp.T,weather_temp)"
   ]
  },
  {
   "cell_type": "code",
   "execution_count": null,
   "metadata": {},
   "outputs": [],
   "source": [
    "(buy_2018.date=='2018-01-01')&(wheather.일시 =='2018-01-01'),wheather.loc[wheather.일시 =='2018-01-01']['평균기온']"
   ]
  },
  {
   "cell_type": "code",
   "execution_count": 257,
   "metadata": {},
   "outputs": [],
   "source": [
    "def find_weight(buy_2018_sex,buy_2018_age):\n",
    "    if buy_2018_sex=='M':\n",
    "        weight_temp = weight.loc[weight.age==buy_2018_age].sort_values('행정구역별(읍면동)')['man_weight']\n",
    "    else :\n",
    "        weight_temp = weight.loc[weight.age==buy_2018_age].sort_values('행정구역별(읍면동)')['woman_weight']\n",
    "    return np.array(weight_temp).reshape(16,1)\n",
    "    "
   ]
  },
  {
   "cell_type": "code",
   "execution_count": 233,
   "metadata": {},
   "outputs": [],
   "source": [
    "buy_2018_date = buy_2018[['date']]"
   ]
  },
  {
   "cell_type": "code",
   "execution_count": 234,
   "metadata": {},
   "outputs": [
    {
     "data": {
      "text/plain": [
       "600612"
      ]
     },
     "execution_count": 234,
     "metadata": {},
     "output_type": "execute_result"
    }
   ],
   "source": [
    "buy_2018_date.size"
   ]
  },
  {
   "cell_type": "code",
   "execution_count": 239,
   "metadata": {},
   "outputs": [],
   "source": [
    "def find_weather(buy_2018_date):\n",
    "    weather_temp = weather.loc[weather.일시 ==buy_2018_date].sort_values('지점명')['평균기온']\n",
    "    return np.array(weather_temp)"
   ]
  },
  {
   "cell_type": "code",
   "execution_count": 182,
   "metadata": {},
   "outputs": [
    {
     "data": {
      "text/plain": [
       "(1, 16)"
      ]
     },
     "execution_count": 182,
     "metadata": {},
     "output_type": "execute_result"
    }
   ],
   "source": [
    "find_weight('M',20).T.shape"
   ]
  },
  {
   "cell_type": "code",
   "execution_count": 263,
   "metadata": {},
   "outputs": [
    {
     "data": {
      "text/plain": [
       "array([[0.02508963],\n",
       "       [0.25024711],\n",
       "       [0.05163084],\n",
       "       [0.04179126],\n",
       "       [0.03189632],\n",
       "       [0.04632009],\n",
       "       [0.03350851],\n",
       "       [0.06614393],\n",
       "       [0.23407195],\n",
       "       [0.01952925],\n",
       "       [0.0582393 ],\n",
       "       [0.0249076 ],\n",
       "       [0.03152463],\n",
       "       [0.01135724],\n",
       "       [0.04417804],\n",
       "       [0.0295643 ]])"
      ]
     },
     "execution_count": 263,
     "metadata": {},
     "output_type": "execute_result"
    }
   ],
   "source": [
    "find_weight('F',20)"
   ]
  },
  {
   "cell_type": "code",
   "execution_count": 240,
   "metadata": {},
   "outputs": [
    {
     "data": {
      "text/plain": [
       "array([-4.5, -1.7,  1.8,  2. ,  2.3,  1.3, -0.7,  2.7, -1.3,  2.1, -0.3,\n",
       "        3.3,  1. ,  6.4, -2.8, -0.2])"
      ]
     },
     "execution_count": 240,
     "metadata": {},
     "output_type": "execute_result"
    }
   ],
   "source": [
    "find_weather('2018-01-01')"
   ]
  },
  {
   "cell_type": "code",
   "execution_count": 253,
   "metadata": {},
   "outputs": [],
   "source": [
    "buy_2018['date']= buy_2018['date'].astype('str')"
   ]
  },
  {
   "cell_type": "code",
   "execution_count": 254,
   "metadata": {},
   "outputs": [
    {
     "data": {
      "text/plain": [
       "'2018-01-01'"
      ]
     },
     "execution_count": 254,
     "metadata": {},
     "output_type": "execute_result"
    }
   ],
   "source": [
    "buy_2018['date'][0]"
   ]
  },
  {
   "cell_type": "code",
   "execution_count": 246,
   "metadata": {},
   "outputs": [
    {
     "data": {
      "text/plain": [
       "array([-4.5, -1.7,  1.8,  2. ,  2.3,  1.3, -0.7,  2.7, -1.3,  2.1, -0.3,\n",
       "        3.3,  1. ,  6.4, -2.8, -0.2])"
      ]
     },
     "execution_count": 246,
     "metadata": {},
     "output_type": "execute_result"
    }
   ],
   "source": [
    "find_weather('2018-01-01')"
   ]
  },
  {
   "cell_type": "code",
   "execution_count": 261,
   "metadata": {},
   "outputs": [
    {
     "data": {
      "text/plain": [
       "'F'"
      ]
     },
     "execution_count": 261,
     "metadata": {},
     "output_type": "execute_result"
    }
   ],
   "source": [
    "buy_2018['sex'][0]"
   ]
  },
  {
   "cell_type": "code",
   "execution_count": 268,
   "metadata": {},
   "outputs": [],
   "source": [
    "buy_2018['age'] = buy_2018[['age']].astype('int64')"
   ]
  },
  {
   "cell_type": "code",
   "execution_count": 269,
   "metadata": {},
   "outputs": [
    {
     "data": {
      "text/plain": [
       "20"
      ]
     },
     "execution_count": 269,
     "metadata": {},
     "output_type": "execute_result"
    }
   ],
   "source": [
    "buy_2018['age'][0]"
   ]
  },
  {
   "cell_type": "code",
   "execution_count": 277,
   "metadata": {},
   "outputs": [],
   "source": [
    "a = find_weight(buy_2018['sex'][0],buy_2018['age'][0])"
   ]
  },
  {
   "cell_type": "code",
   "execution_count": 278,
   "metadata": {},
   "outputs": [],
   "source": [
    "b = find_weather(buy_2018['date'][0])"
   ]
  },
  {
   "cell_type": "code",
   "execution_count": 280,
   "metadata": {},
   "outputs": [
    {
     "data": {
      "text/plain": [
       "array([-0.29705431])"
      ]
     },
     "execution_count": 280,
     "metadata": {},
     "output_type": "execute_result"
    }
   ],
   "source": [
    "np.dot(find_weight(buy_2018['sex'][0],buy_2018['age'][0]).T,find_weather(buy_2018['date'][0]))"
   ]
  },
  {
   "cell_type": "code",
   "execution_count": 281,
   "metadata": {},
   "outputs": [],
   "source": [
    "buy_2018['mean_temp'] = 0"
   ]
  },
  {
   "cell_type": "code",
   "execution_count": 292,
   "metadata": {},
   "outputs": [],
   "source": [
    "buy_2018.iloc[0,5] = np.dot(find_weight(buy_2018['sex'][0],buy_2018['age'][0]).T,find_weather(buy_2018['date'][0]))"
   ]
  },
  {
   "cell_type": "code",
   "execution_count": 294,
   "metadata": {},
   "outputs": [
    {
     "data": {
      "text/plain": [
       "600612"
      ]
     },
     "execution_count": 294,
     "metadata": {},
     "output_type": "execute_result"
    }
   ],
   "source": [
    "buy_2018.age.size"
   ]
  },
  {
   "cell_type": "code",
   "execution_count": null,
   "metadata": {},
   "outputs": [],
   "source": [
    "#16,n 이면, 결과값을 그냥 array로 나올테니,\n",
    "#60만,n\n",
    "#을 데이터 프레임으로, 콩켓."
   ]
  },
  {
   "cell_type": "code",
   "execution_count": 296,
   "metadata": {},
   "outputs": [],
   "source": [
    "for i in np.arange(buy_2018.age.size):\n",
    "    buy_2018.iloc[i,5] = np.dot(find_weight(buy_2018['sex'][i],buy_2018['age'][i]).T,find_weather(buy_2018['date'][i]))"
   ]
  },
  {
   "cell_type": "code",
   "execution_count": 298,
   "metadata": {},
   "outputs": [],
   "source": [
    "buy_2018.to_csv('C://pythonworks/miniminiproject/data/buy_2018_mean_temp.csv',  encoding='euc-kr')"
   ]
  },
  {
   "cell_type": "code",
   "execution_count": 279,
   "metadata": {},
   "outputs": [
    {
     "data": {
      "text/plain": [
       "array([-0.29705431])"
      ]
     },
     "execution_count": 279,
     "metadata": {},
     "output_type": "execute_result"
    }
   ],
   "source": [
    "np.dot(a.T,b)"
   ]
  },
  {
   "cell_type": "code",
   "execution_count": 197,
   "metadata": {},
   "outputs": [
    {
     "data": {
      "text/html": [
       "<div>\n",
       "<style scoped>\n",
       "    .dataframe tbody tr th:only-of-type {\n",
       "        vertical-align: middle;\n",
       "    }\n",
       "\n",
       "    .dataframe tbody tr th {\n",
       "        vertical-align: top;\n",
       "    }\n",
       "\n",
       "    .dataframe thead th {\n",
       "        text-align: right;\n",
       "    }\n",
       "</style>\n",
       "<table border=\"1\" class=\"dataframe\">\n",
       "  <thead>\n",
       "    <tr style=\"text-align: right;\">\n",
       "      <th></th>\n",
       "      <th>date</th>\n",
       "      <th>sex</th>\n",
       "      <th>age</th>\n",
       "      <th>sm_pr</th>\n",
       "      <th>quant</th>\n",
       "    </tr>\n",
       "  </thead>\n",
       "  <tbody>\n",
       "    <tr>\n",
       "      <th>0</th>\n",
       "      <td>2018-01-01</td>\n",
       "      <td>F</td>\n",
       "      <td>20</td>\n",
       "      <td>가공란</td>\n",
       "      <td>37</td>\n",
       "    </tr>\n",
       "    <tr>\n",
       "      <th>1</th>\n",
       "      <td>2018-01-01</td>\n",
       "      <td>F</td>\n",
       "      <td>30</td>\n",
       "      <td>가공란</td>\n",
       "      <td>16</td>\n",
       "    </tr>\n",
       "    <tr>\n",
       "      <th>2</th>\n",
       "      <td>2018-01-01</td>\n",
       "      <td>F</td>\n",
       "      <td>40</td>\n",
       "      <td>가공란</td>\n",
       "      <td>9</td>\n",
       "    </tr>\n",
       "    <tr>\n",
       "      <th>3</th>\n",
       "      <td>2018-01-01</td>\n",
       "      <td>F</td>\n",
       "      <td>50</td>\n",
       "      <td>가공란</td>\n",
       "      <td>3</td>\n",
       "    </tr>\n",
       "    <tr>\n",
       "      <th>4</th>\n",
       "      <td>2018-01-01</td>\n",
       "      <td>M</td>\n",
       "      <td>20</td>\n",
       "      <td>가공란</td>\n",
       "      <td>13</td>\n",
       "    </tr>\n",
       "  </tbody>\n",
       "</table>\n",
       "</div>"
      ],
      "text/plain": [
       "        date sex age sm_pr  quant\n",
       "0 2018-01-01   F  20   가공란     37\n",
       "1 2018-01-01   F  30   가공란     16\n",
       "2 2018-01-01   F  40   가공란      9\n",
       "3 2018-01-01   F  50   가공란      3\n",
       "4 2018-01-01   M  20   가공란     13"
      ]
     },
     "execution_count": 197,
     "metadata": {},
     "output_type": "execute_result"
    }
   ],
   "source": [
    "buy_2018.head()"
   ]
  },
  {
   "cell_type": "code",
   "execution_count": null,
   "metadata": {},
   "outputs": [],
   "source": []
  },
  {
   "cell_type": "code",
   "execution_count": 230,
   "metadata": {},
   "outputs": [
    {
     "ename": "ValueError",
     "evalue": "Cannot index with multidimensional key",
     "output_type": "error",
     "traceback": [
      "\u001b[1;31m---------------------------------------------------------------------------\u001b[0m",
      "\u001b[1;31mValueError\u001b[0m                                Traceback (most recent call last)",
      "\u001b[1;32m<ipython-input-230-3526d62813b5>\u001b[0m in \u001b[0;36m<module>\u001b[1;34m\u001b[0m\n\u001b[1;32m----> 1\u001b[1;33m \u001b[0mfind_weight\u001b[0m\u001b[1;33m(\u001b[0m\u001b[0mbuy_2018\u001b[0m\u001b[1;33m[\u001b[0m\u001b[1;33m[\u001b[0m\u001b[1;34m'sex'\u001b[0m\u001b[1;33m]\u001b[0m\u001b[1;33m]\u001b[0m\u001b[1;33m,\u001b[0m\u001b[0mbuy_2018\u001b[0m\u001b[1;33m[\u001b[0m\u001b[1;33m[\u001b[0m\u001b[1;34m'age'\u001b[0m\u001b[1;33m]\u001b[0m\u001b[1;33m]\u001b[0m\u001b[1;33m)\u001b[0m\u001b[1;33m\u001b[0m\u001b[1;33m\u001b[0m\u001b[0m\n\u001b[0m",
      "\u001b[1;32m<ipython-input-229-3e80d7f43810>\u001b[0m in \u001b[0;36mfind_weight\u001b[1;34m(buy_2018_sex, buy_2018_age)\u001b[0m\n\u001b[0;32m      1\u001b[0m \u001b[1;32mdef\u001b[0m \u001b[0mfind_weight\u001b[0m\u001b[1;33m(\u001b[0m\u001b[0mbuy_2018_sex\u001b[0m\u001b[1;33m,\u001b[0m\u001b[0mbuy_2018_age\u001b[0m\u001b[1;33m)\u001b[0m\u001b[1;33m:\u001b[0m\u001b[1;33m\u001b[0m\u001b[1;33m\u001b[0m\u001b[0m\n\u001b[1;32m----> 2\u001b[1;33m     \u001b[0mweight_temp\u001b[0m \u001b[1;33m=\u001b[0m \u001b[0mnp\u001b[0m\u001b[1;33m.\u001b[0m\u001b[0mwhere\u001b[0m\u001b[1;33m(\u001b[0m\u001b[0mbuy_2018_sex\u001b[0m\u001b[1;33m==\u001b[0m\u001b[1;34m'M'\u001b[0m\u001b[1;33m,\u001b[0m \u001b[0mweight\u001b[0m\u001b[1;33m.\u001b[0m\u001b[0mloc\u001b[0m\u001b[1;33m[\u001b[0m\u001b[0mweight\u001b[0m\u001b[1;33m.\u001b[0m\u001b[0mage\u001b[0m\u001b[1;33m==\u001b[0m\u001b[0mbuy_2018_age\u001b[0m\u001b[1;33m]\u001b[0m\u001b[1;33m.\u001b[0m\u001b[0msort_values\u001b[0m\u001b[1;33m(\u001b[0m\u001b[1;34m'행정구역별(읍면동)'\u001b[0m\u001b[1;33m)\u001b[0m\u001b[1;33m[\u001b[0m\u001b[1;34m'man_weight'\u001b[0m\u001b[1;33m]\u001b[0m\u001b[1;33m,\u001b[0m \u001b[0mweight\u001b[0m\u001b[1;33m.\u001b[0m\u001b[0mloc\u001b[0m\u001b[1;33m[\u001b[0m\u001b[0mweight\u001b[0m\u001b[1;33m.\u001b[0m\u001b[0mage\u001b[0m\u001b[1;33m==\u001b[0m\u001b[0mbuy_2018_age\u001b[0m\u001b[1;33m]\u001b[0m\u001b[1;33m.\u001b[0m\u001b[0msort_values\u001b[0m\u001b[1;33m(\u001b[0m\u001b[1;34m'행정구역별(읍면동)'\u001b[0m\u001b[1;33m)\u001b[0m\u001b[1;33m[\u001b[0m\u001b[1;34m'woman_weight'\u001b[0m\u001b[1;33m]\u001b[0m\u001b[1;33m)\u001b[0m\u001b[1;33m\u001b[0m\u001b[1;33m\u001b[0m\u001b[0m\n\u001b[0m\u001b[0;32m      3\u001b[0m     \u001b[1;32mreturn\u001b[0m \u001b[0mnp\u001b[0m\u001b[1;33m.\u001b[0m\u001b[0marray\u001b[0m\u001b[1;33m(\u001b[0m\u001b[0mweight_temp\u001b[0m\u001b[1;33m)\u001b[0m\u001b[1;33m.\u001b[0m\u001b[0mreshape\u001b[0m\u001b[1;33m(\u001b[0m\u001b[1;36m16\u001b[0m\u001b[1;33m,\u001b[0m\u001b[1;36m1\u001b[0m\u001b[1;33m)\u001b[0m\u001b[1;33m\u001b[0m\u001b[1;33m\u001b[0m\u001b[0m\n\u001b[0;32m      4\u001b[0m \u001b[1;33m\u001b[0m\u001b[0m\n",
      "\u001b[1;32m~\\Anaconda3\\lib\\site-packages\\pandas\\core\\indexing.py\u001b[0m in \u001b[0;36m__getitem__\u001b[1;34m(self, key)\u001b[0m\n\u001b[0;32m   1498\u001b[0m \u001b[1;33m\u001b[0m\u001b[0m\n\u001b[0;32m   1499\u001b[0m             \u001b[0mmaybe_callable\u001b[0m \u001b[1;33m=\u001b[0m \u001b[0mcom\u001b[0m\u001b[1;33m.\u001b[0m\u001b[0mapply_if_callable\u001b[0m\u001b[1;33m(\u001b[0m\u001b[0mkey\u001b[0m\u001b[1;33m,\u001b[0m \u001b[0mself\u001b[0m\u001b[1;33m.\u001b[0m\u001b[0mobj\u001b[0m\u001b[1;33m)\u001b[0m\u001b[1;33m\u001b[0m\u001b[1;33m\u001b[0m\u001b[0m\n\u001b[1;32m-> 1500\u001b[1;33m             \u001b[1;32mreturn\u001b[0m \u001b[0mself\u001b[0m\u001b[1;33m.\u001b[0m\u001b[0m_getitem_axis\u001b[0m\u001b[1;33m(\u001b[0m\u001b[0mmaybe_callable\u001b[0m\u001b[1;33m,\u001b[0m \u001b[0maxis\u001b[0m\u001b[1;33m=\u001b[0m\u001b[0maxis\u001b[0m\u001b[1;33m)\u001b[0m\u001b[1;33m\u001b[0m\u001b[1;33m\u001b[0m\u001b[0m\n\u001b[0m\u001b[0;32m   1501\u001b[0m \u001b[1;33m\u001b[0m\u001b[0m\n\u001b[0;32m   1502\u001b[0m     \u001b[1;32mdef\u001b[0m \u001b[0m_is_scalar_access\u001b[0m\u001b[1;33m(\u001b[0m\u001b[0mself\u001b[0m\u001b[1;33m,\u001b[0m \u001b[0mkey\u001b[0m\u001b[1;33m)\u001b[0m\u001b[1;33m:\u001b[0m\u001b[1;33m\u001b[0m\u001b[1;33m\u001b[0m\u001b[0m\n",
      "\u001b[1;32m~\\Anaconda3\\lib\\site-packages\\pandas\\core\\indexing.py\u001b[0m in \u001b[0;36m_getitem_axis\u001b[1;34m(self, key, axis)\u001b[0m\n\u001b[0;32m   1898\u001b[0m \u001b[1;33m\u001b[0m\u001b[0m\n\u001b[0;32m   1899\u001b[0m                 \u001b[1;32mif\u001b[0m \u001b[0mhasattr\u001b[0m\u001b[1;33m(\u001b[0m\u001b[0mkey\u001b[0m\u001b[1;33m,\u001b[0m \u001b[1;34m'ndim'\u001b[0m\u001b[1;33m)\u001b[0m \u001b[1;32mand\u001b[0m \u001b[0mkey\u001b[0m\u001b[1;33m.\u001b[0m\u001b[0mndim\u001b[0m \u001b[1;33m>\u001b[0m \u001b[1;36m1\u001b[0m\u001b[1;33m:\u001b[0m\u001b[1;33m\u001b[0m\u001b[1;33m\u001b[0m\u001b[0m\n\u001b[1;32m-> 1900\u001b[1;33m                     \u001b[1;32mraise\u001b[0m \u001b[0mValueError\u001b[0m\u001b[1;33m(\u001b[0m\u001b[1;34m'Cannot index with multidimensional key'\u001b[0m\u001b[1;33m)\u001b[0m\u001b[1;33m\u001b[0m\u001b[1;33m\u001b[0m\u001b[0m\n\u001b[0m\u001b[0;32m   1901\u001b[0m \u001b[1;33m\u001b[0m\u001b[0m\n\u001b[0;32m   1902\u001b[0m                 \u001b[1;32mreturn\u001b[0m \u001b[0mself\u001b[0m\u001b[1;33m.\u001b[0m\u001b[0m_getitem_iterable\u001b[0m\u001b[1;33m(\u001b[0m\u001b[0mkey\u001b[0m\u001b[1;33m,\u001b[0m \u001b[0maxis\u001b[0m\u001b[1;33m=\u001b[0m\u001b[0maxis\u001b[0m\u001b[1;33m)\u001b[0m\u001b[1;33m\u001b[0m\u001b[1;33m\u001b[0m\u001b[0m\n",
      "\u001b[1;31mValueError\u001b[0m: Cannot index with multidimensional key"
     ]
    }
   ],
   "source": [
    "find_weight(buy_2018[['sex']],buy_2018[['age']])"
   ]
  },
  {
   "cell_type": "code",
   "execution_count": 275,
   "metadata": {},
   "outputs": [
    {
     "ename": "TypeError",
     "evalue": "find_weight() missing 1 required positional argument: 'buy_2018_age'",
     "output_type": "error",
     "traceback": [
      "\u001b[1;31m---------------------------------------------------------------------------\u001b[0m",
      "\u001b[1;31mTypeError\u001b[0m                                 Traceback (most recent call last)",
      "\u001b[1;32m<ipython-input-275-c69b12f7b47a>\u001b[0m in \u001b[0;36m<module>\u001b[1;34m\u001b[0m\n\u001b[1;32m----> 1\u001b[1;33m \u001b[0mnp\u001b[0m\u001b[1;33m.\u001b[0m\u001b[0mdot\u001b[0m\u001b[1;33m(\u001b[0m\u001b[0mfind_weight\u001b[0m\u001b[1;33m(\u001b[0m\u001b[0mbuy_2018\u001b[0m\u001b[1;33m[\u001b[0m\u001b[1;34m'date'\u001b[0m\u001b[1;33m]\u001b[0m\u001b[1;33m[\u001b[0m\u001b[1;36m0\u001b[0m\u001b[1;33m]\u001b[0m\u001b[1;33m)\u001b[0m\u001b[1;33m.\u001b[0m\u001b[0mT\u001b[0m\u001b[1;33m,\u001b[0m\u001b[1;33m(\u001b[0m\u001b[0mfind_weight\u001b[0m\u001b[1;33m(\u001b[0m\u001b[0mbuy_2018\u001b[0m\u001b[1;33m[\u001b[0m\u001b[1;34m'sex'\u001b[0m\u001b[1;33m]\u001b[0m\u001b[1;33m[\u001b[0m\u001b[1;36m0\u001b[0m\u001b[1;33m]\u001b[0m\u001b[1;33m,\u001b[0m\u001b[0mbuy_2018\u001b[0m\u001b[1;33m[\u001b[0m\u001b[1;34m'age'\u001b[0m\u001b[1;33m]\u001b[0m\u001b[1;33m[\u001b[0m\u001b[1;36m0\u001b[0m\u001b[1;33m]\u001b[0m\u001b[1;33m)\u001b[0m\u001b[1;33m)\u001b[0m\u001b[1;33m)\u001b[0m\u001b[1;33m\u001b[0m\u001b[1;33m\u001b[0m\u001b[0m\n\u001b[0m",
      "\u001b[1;31mTypeError\u001b[0m: find_weight() missing 1 required positional argument: 'buy_2018_age'"
     ]
    }
   ],
   "source": []
  },
  {
   "cell_type": "code",
   "execution_count": 200,
   "metadata": {},
   "outputs": [
    {
     "data": {
      "text/plain": [
       "array([-0.2302973])"
      ]
     },
     "execution_count": 200,
     "metadata": {},
     "output_type": "execute_result"
    }
   ],
   "source": [
    "np.dot(find_weight('M',20).T,find_weather('2018-01-01'))"
   ]
  },
  {
   "cell_type": "code",
   "execution_count": 231,
   "metadata": {},
   "outputs": [
    {
     "data": {
      "text/plain": [
       "array([-4.5, -1.7,  1.8,  2. ,  2.3,  1.3, -0.7,  2.7, -1.3,  2.1, -0.3,\n",
       "        3.3,  1. ,  6.4, -2.8, -0.2])"
      ]
     },
     "execution_count": 231,
     "metadata": {},
     "output_type": "execute_result"
    }
   ],
   "source": [
    "find_weather('2018-01-01')"
   ]
  },
  {
   "cell_type": "code",
   "execution_count": 218,
   "metadata": {},
   "outputs": [
    {
     "ename": "ValueError",
     "evalue": "The truth value of a DataFrame is ambiguous. Use a.empty, a.bool(), a.item(), a.any() or a.all().",
     "output_type": "error",
     "traceback": [
      "\u001b[1;31m---------------------------------------------------------------------------\u001b[0m",
      "\u001b[1;31mValueError\u001b[0m                                Traceback (most recent call last)",
      "\u001b[1;32m<ipython-input-218-c1cf8708bdbd>\u001b[0m in \u001b[0;36m<module>\u001b[1;34m\u001b[0m\n\u001b[1;32m----> 1\u001b[1;33m \u001b[0mnp\u001b[0m\u001b[1;33m.\u001b[0m\u001b[0mdot\u001b[0m\u001b[1;33m(\u001b[0m\u001b[0mfind_weight\u001b[0m\u001b[1;33m(\u001b[0m\u001b[0mbuy_2018\u001b[0m\u001b[1;33m[\u001b[0m\u001b[1;33m[\u001b[0m\u001b[1;34m'sex'\u001b[0m\u001b[1;33m]\u001b[0m\u001b[1;33m]\u001b[0m\u001b[1;33m,\u001b[0m\u001b[1;36m20\u001b[0m\u001b[1;33m)\u001b[0m\u001b[1;33m.\u001b[0m\u001b[0mT\u001b[0m\u001b[1;33m,\u001b[0m\u001b[0mfind_weather\u001b[0m\u001b[1;33m(\u001b[0m\u001b[1;34m'2018-01-01'\u001b[0m\u001b[1;33m)\u001b[0m\u001b[1;33m)\u001b[0m\u001b[1;33m\u001b[0m\u001b[1;33m\u001b[0m\u001b[0m\n\u001b[0m",
      "\u001b[1;32m<ipython-input-181-7d5b96470251>\u001b[0m in \u001b[0;36mfind_weight\u001b[1;34m(buy_2018_sex, buy_2018_age)\u001b[0m\n\u001b[0;32m      1\u001b[0m \u001b[1;32mdef\u001b[0m \u001b[0mfind_weight\u001b[0m \u001b[1;33m(\u001b[0m\u001b[0mbuy_2018_sex\u001b[0m\u001b[1;33m,\u001b[0m\u001b[0mbuy_2018_age\u001b[0m\u001b[1;33m)\u001b[0m\u001b[1;33m:\u001b[0m\u001b[1;33m\u001b[0m\u001b[1;33m\u001b[0m\u001b[0m\n\u001b[1;32m----> 2\u001b[1;33m     \u001b[1;32mif\u001b[0m \u001b[0mbuy_2018_sex\u001b[0m\u001b[1;33m==\u001b[0m\u001b[1;34m'M'\u001b[0m\u001b[1;33m:\u001b[0m\u001b[1;33m\u001b[0m\u001b[1;33m\u001b[0m\u001b[0m\n\u001b[0m\u001b[0;32m      3\u001b[0m         \u001b[0mweight_temp\u001b[0m \u001b[1;33m=\u001b[0m \u001b[0mweight\u001b[0m\u001b[1;33m.\u001b[0m\u001b[0mloc\u001b[0m\u001b[1;33m[\u001b[0m\u001b[0mweight\u001b[0m\u001b[1;33m.\u001b[0m\u001b[0mage\u001b[0m\u001b[1;33m==\u001b[0m\u001b[0mbuy_2018_age\u001b[0m\u001b[1;33m]\u001b[0m\u001b[1;33m.\u001b[0m\u001b[0msort_values\u001b[0m\u001b[1;33m(\u001b[0m\u001b[1;34m'행정구역별(읍면동)'\u001b[0m\u001b[1;33m)\u001b[0m\u001b[1;33m[\u001b[0m\u001b[1;34m'man_weight'\u001b[0m\u001b[1;33m]\u001b[0m\u001b[1;33m\u001b[0m\u001b[1;33m\u001b[0m\u001b[0m\n\u001b[0;32m      4\u001b[0m     \u001b[1;32melse\u001b[0m \u001b[1;33m:\u001b[0m\u001b[1;33m\u001b[0m\u001b[1;33m\u001b[0m\u001b[0m\n\u001b[0;32m      5\u001b[0m         \u001b[0mweight_temp\u001b[0m \u001b[1;33m=\u001b[0m \u001b[0mweight\u001b[0m\u001b[1;33m.\u001b[0m\u001b[0mloc\u001b[0m\u001b[1;33m[\u001b[0m\u001b[0mweight\u001b[0m\u001b[1;33m.\u001b[0m\u001b[0mage\u001b[0m\u001b[1;33m==\u001b[0m\u001b[0mbuy_2018_age\u001b[0m\u001b[1;33m]\u001b[0m\u001b[1;33m.\u001b[0m\u001b[0msort_values\u001b[0m\u001b[1;33m(\u001b[0m\u001b[1;34m'행정구역별(읍면동)'\u001b[0m\u001b[1;33m)\u001b[0m\u001b[1;33m[\u001b[0m\u001b[1;34m'woman_weight'\u001b[0m\u001b[1;33m]\u001b[0m\u001b[1;33m\u001b[0m\u001b[1;33m\u001b[0m\u001b[0m\n",
      "\u001b[1;32m~\\Anaconda3\\lib\\site-packages\\pandas\\core\\generic.py\u001b[0m in \u001b[0;36m__nonzero__\u001b[1;34m(self)\u001b[0m\n\u001b[0;32m   1476\u001b[0m         raise ValueError(\"The truth value of a {0} is ambiguous. \"\n\u001b[0;32m   1477\u001b[0m                          \u001b[1;34m\"Use a.empty, a.bool(), a.item(), a.any() or a.all().\"\u001b[0m\u001b[1;33m\u001b[0m\u001b[1;33m\u001b[0m\u001b[0m\n\u001b[1;32m-> 1478\u001b[1;33m                          .format(self.__class__.__name__))\n\u001b[0m\u001b[0;32m   1479\u001b[0m \u001b[1;33m\u001b[0m\u001b[0m\n\u001b[0;32m   1480\u001b[0m     \u001b[0m__bool__\u001b[0m \u001b[1;33m=\u001b[0m \u001b[0m__nonzero__\u001b[0m\u001b[1;33m\u001b[0m\u001b[1;33m\u001b[0m\u001b[0m\n",
      "\u001b[1;31mValueError\u001b[0m: The truth value of a DataFrame is ambiguous. Use a.empty, a.bool(), a.item(), a.any() or a.all()."
     ]
    }
   ],
   "source": [
    "np.dot(find_weight(buy_2018[['sex']],20).T,find_weather('2018-01-01'))"
   ]
  },
  {
   "cell_type": "code",
   "execution_count": 215,
   "metadata": {},
   "outputs": [
    {
     "data": {
      "text/html": [
       "<div>\n",
       "<style scoped>\n",
       "    .dataframe tbody tr th:only-of-type {\n",
       "        vertical-align: middle;\n",
       "    }\n",
       "\n",
       "    .dataframe tbody tr th {\n",
       "        vertical-align: top;\n",
       "    }\n",
       "\n",
       "    .dataframe thead th {\n",
       "        text-align: right;\n",
       "    }\n",
       "</style>\n",
       "<table border=\"1\" class=\"dataframe\">\n",
       "  <thead>\n",
       "    <tr style=\"text-align: right;\">\n",
       "      <th></th>\n",
       "      <th>date</th>\n",
       "      <th>sex</th>\n",
       "      <th>age</th>\n",
       "      <th>sm_pr</th>\n",
       "      <th>quant</th>\n",
       "    </tr>\n",
       "  </thead>\n",
       "  <tbody>\n",
       "    <tr>\n",
       "      <th>0</th>\n",
       "      <td>2018-01-01</td>\n",
       "      <td>F</td>\n",
       "      <td>20</td>\n",
       "      <td>가공란</td>\n",
       "      <td>37</td>\n",
       "    </tr>\n",
       "    <tr>\n",
       "      <th>1</th>\n",
       "      <td>2018-01-01</td>\n",
       "      <td>F</td>\n",
       "      <td>30</td>\n",
       "      <td>가공란</td>\n",
       "      <td>16</td>\n",
       "    </tr>\n",
       "    <tr>\n",
       "      <th>2</th>\n",
       "      <td>2018-01-01</td>\n",
       "      <td>F</td>\n",
       "      <td>40</td>\n",
       "      <td>가공란</td>\n",
       "      <td>9</td>\n",
       "    </tr>\n",
       "    <tr>\n",
       "      <th>3</th>\n",
       "      <td>2018-01-01</td>\n",
       "      <td>F</td>\n",
       "      <td>50</td>\n",
       "      <td>가공란</td>\n",
       "      <td>3</td>\n",
       "    </tr>\n",
       "    <tr>\n",
       "      <th>4</th>\n",
       "      <td>2018-01-01</td>\n",
       "      <td>M</td>\n",
       "      <td>20</td>\n",
       "      <td>가공란</td>\n",
       "      <td>13</td>\n",
       "    </tr>\n",
       "  </tbody>\n",
       "</table>\n",
       "</div>"
      ],
      "text/plain": [
       "        date sex age sm_pr  quant\n",
       "0 2018-01-01   F  20   가공란     37\n",
       "1 2018-01-01   F  30   가공란     16\n",
       "2 2018-01-01   F  40   가공란      9\n",
       "3 2018-01-01   F  50   가공란      3\n",
       "4 2018-01-01   M  20   가공란     13"
      ]
     },
     "execution_count": 215,
     "metadata": {},
     "output_type": "execute_result"
    }
   ],
   "source": [
    "buy_2018.head()"
   ]
  },
  {
   "cell_type": "code",
   "execution_count": 213,
   "metadata": {},
   "outputs": [
    {
     "ename": "SyntaxError",
     "evalue": "invalid syntax (<ipython-input-213-b5116e0c3d19>, line 1)",
     "output_type": "error",
     "traceback": [
      "\u001b[1;36m  File \u001b[1;32m\"<ipython-input-213-b5116e0c3d19>\"\u001b[1;36m, line \u001b[1;32m1\u001b[0m\n\u001b[1;33m    buy_2018['weather'] = np.dot((buy_2018.apply(find_weightsex(,buy_2018.age),find_weather(buy_2018.date))\u001b[0m\n\u001b[1;37m                                                                ^\u001b[0m\n\u001b[1;31mSyntaxError\u001b[0m\u001b[1;31m:\u001b[0m invalid syntax\n"
     ]
    }
   ],
   "source": [
    "buy_2018['weather'] = np.dot((buy_2018.apply(find_weightsex(,buy_2018.age),find_weather(buy_2018.date))"
   ]
  },
  {
   "cell_type": "code",
   "execution_count": null,
   "metadata": {},
   "outputs": [],
   "source": []
  }
 ],
 "metadata": {
  "kernelspec": {
   "display_name": "Python 3",
   "language": "python",
   "name": "python3"
  },
  "language_info": {
   "codemirror_mode": {
    "name": "ipython",
    "version": 3
   },
   "file_extension": ".py",
   "mimetype": "text/x-python",
   "name": "python",
   "nbconvert_exporter": "python",
   "pygments_lexer": "ipython3",
   "version": "3.7.3"
  }
 },
 "nbformat": 4,
 "nbformat_minor": 2
}
