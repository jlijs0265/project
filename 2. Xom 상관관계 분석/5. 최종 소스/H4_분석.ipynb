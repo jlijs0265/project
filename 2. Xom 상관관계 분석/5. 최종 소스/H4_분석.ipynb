{
 "cells": [
  {
   "cell_type": "code",
   "execution_count": 5,
   "metadata": {},
   "outputs": [],
   "source": [
    "import numpy as np\n",
    "import pandas as pd\n",
    "import matplotlib.pyplot as plt\n",
    "import scipy.stats as stats"
   ]
  },
  {
   "cell_type": "code",
   "execution_count": 6,
   "metadata": {},
   "outputs": [],
   "source": [
    "import matplotlib\n",
    "matplotlib.rcParams['axes.unicode_minus'] = False"
   ]
  },
  {
   "cell_type": "code",
   "execution_count": 7,
   "metadata": {},
   "outputs": [],
   "source": [
    "# 한글 폰트 사용을 위해서 세팅\n",
    "from matplotlib import font_manager, rc\n",
    "font_path = \"C:/Windows/Fonts/malgun.ttf\"\n",
    "font = font_manager.FontProperties(fname=font_path).get_name()\n",
    "rc('font', family=font)"
   ]
  },
  {
   "cell_type": "code",
   "execution_count": 1,
   "metadata": {},
   "outputs": [],
   "source": [
    "#1. 데이터 생성"
   ]
  },
  {
   "cell_type": "code",
   "execution_count": 21,
   "metadata": {},
   "outputs": [],
   "source": [
    "statement = pd.read_csv('data/XOM_statement.csv')"
   ]
  },
  {
   "cell_type": "code",
   "execution_count": 22,
   "metadata": {},
   "outputs": [],
   "source": [
    "XOM_price = pd.read_csv('data/XOM_price.csv')"
   ]
  },
  {
   "cell_type": "code",
   "execution_count": 2,
   "metadata": {},
   "outputs": [],
   "source": [
    "#1.1 각데이터 확인"
   ]
  },
  {
   "cell_type": "code",
   "execution_count": 23,
   "metadata": {},
   "outputs": [
    {
     "data": {
      "text/plain": [
       "0       2007-01-03\n",
       "1       2007-01-04\n",
       "2       2007-01-05\n",
       "3       2007-01-08\n",
       "4       2007-01-09\n",
       "           ...    \n",
       "3643    2021-06-23\n",
       "3644    2021-06-24\n",
       "3645    2021-06-25\n",
       "3646    2021-06-28\n",
       "3647    2021-06-29\n",
       "Name: Date, Length: 3648, dtype: object"
      ]
     },
     "execution_count": 23,
     "metadata": {},
     "output_type": "execute_result"
    }
   ],
   "source": [
    "XOM_price['Date']"
   ]
  },
  {
   "cell_type": "code",
   "execution_count": 24,
   "metadata": {},
   "outputs": [
    {
     "data": {
      "text/plain": [
       "0     21.03/31\n",
       "1     20.12/31\n",
       "2     20.09/30\n",
       "3     20.06/30\n",
       "4     20.03/31\n",
       "5     19.12/31\n",
       "6     19.09/30\n",
       "7     19.06/30\n",
       "8     19.03/31\n",
       "9     18.12/31\n",
       "10    18.09/30\n",
       "11    18.06/30\n",
       "12    18.03/31\n",
       "13    17.12/31\n",
       "14    17.09/30\n",
       "15    17.06/30\n",
       "16    17.03/31\n",
       "17    16.12/31\n",
       "18    16.09/30\n",
       "19    16.06/30\n",
       "20    16.03/31\n",
       "21    15.12/31\n",
       "22    15.09/30\n",
       "23    15.06/30\n",
       "24    15.03/31\n",
       "25    14.12/31\n",
       "26    14.09/30\n",
       "27    14.06/30\n",
       "28    14.03/31\n",
       "29    13.12/31\n",
       "30    13.09/30\n",
       "31    13.06/30\n",
       "32    13.03/31\n",
       "33    12.12/31\n",
       "34    12.09/30\n",
       "35    12.06/30\n",
       "36    12.03/31\n",
       "37    11.12/31\n",
       "38    11.09/30\n",
       "39    11.06/30\n",
       "40    11.03/31\n",
       "Name: Date, dtype: object"
      ]
     },
     "execution_count": 24,
     "metadata": {},
     "output_type": "execute_result"
    }
   ],
   "source": [
    "statement['Date']"
   ]
  },
  {
   "cell_type": "code",
   "execution_count": 11,
   "metadata": {},
   "outputs": [],
   "source": [
    "#1.2 key 값이 될 Date의 형식이 다름을 확인 -> 주가 데이터와 맞게 수정"
   ]
  },
  {
   "cell_type": "code",
   "execution_count": 25,
   "metadata": {},
   "outputs": [
    {
     "name": "stderr",
     "output_type": "stream",
     "text": [
      "C:\\Users\\admin\\Anaconda3\\lib\\site-packages\\ipykernel_launcher.py:1: FutureWarning: The default value of regex will change from True to False in a future version. In addition, single character regular expressions will*not* be treated as literal strings when regex=True.\n",
      "  \"\"\"Entry point for launching an IPython kernel.\n"
     ]
    }
   ],
   "source": [
    "statement['Date'] = statement['Date'].str.replace('.','/')"
   ]
  },
  {
   "cell_type": "code",
   "execution_count": 26,
   "metadata": {},
   "outputs": [],
   "source": [
    "statement['Date'] = statement['Date'].str.replace('/','-')"
   ]
  },
  {
   "cell_type": "code",
   "execution_count": 27,
   "metadata": {},
   "outputs": [],
   "source": [
    "statement['Date']='20'+statement['Date']"
   ]
  },
  {
   "cell_type": "code",
   "execution_count": 28,
   "metadata": {},
   "outputs": [
    {
     "data": {
      "text/plain": [
       "0       2007-01-03\n",
       "1       2007-01-04\n",
       "2       2007-01-05\n",
       "3       2007-01-08\n",
       "4       2007-01-09\n",
       "           ...    \n",
       "3643    2021-06-23\n",
       "3644    2021-06-24\n",
       "3645    2021-06-25\n",
       "3646    2021-06-28\n",
       "3647    2021-06-29\n",
       "Name: Date, Length: 3648, dtype: object"
      ]
     },
     "execution_count": 28,
     "metadata": {},
     "output_type": "execute_result"
    }
   ],
   "source": [
    "XOM_price['Date']"
   ]
  },
  {
   "cell_type": "code",
   "execution_count": 29,
   "metadata": {},
   "outputs": [
    {
     "data": {
      "text/plain": [
       "0       01\n",
       "1       01\n",
       "2       01\n",
       "3       01\n",
       "4       01\n",
       "        ..\n",
       "3643    06\n",
       "3644    06\n",
       "3645    06\n",
       "3646    06\n",
       "3647    06\n",
       "Name: Date, Length: 3648, dtype: object"
      ]
     },
     "execution_count": 29,
     "metadata": {},
     "output_type": "execute_result"
    }
   ],
   "source": [
    "XOM_price['Date'].str.slice(5,7)"
   ]
  },
  {
   "cell_type": "code",
   "execution_count": 12,
   "metadata": {},
   "outputs": [],
   "source": [
    "#1.3 분기별로 볼 파생변수 생성"
   ]
  },
  {
   "cell_type": "code",
   "execution_count": 31,
   "metadata": {},
   "outputs": [],
   "source": [
    "XOM_price['Q']= np.where(XOM_price['Date'].str.slice(5,7).astype('int64') <= 3, XOM_price['Date'].str.slice(0,5)+'1Q',\n",
    "        np.where(XOM_price['Date'].str.slice(5,7).astype('int64') <= 6, XOM_price['Date'].str.slice(0,5)+'2Q',\n",
    "                np.where(XOM_price['Date'].str.slice(5,7).astype('int64') <= 9, XOM_price['Date'].str.slice(0,5)+'3Q',XOM_price['Date'].str.slice(0,5)+'4Q')))"
   ]
  },
  {
   "cell_type": "code",
   "execution_count": 32,
   "metadata": {},
   "outputs": [],
   "source": [
    "statement['Q']= np.where(statement['Date'].str.slice(5,7).astype('int64') <= 3, statement['Date'].str.slice(0,5)+'1Q',\n",
    "                np.where(statement['Date'].str.slice(5,7).astype('int64') <= 6, statement['Date'].str.slice(0,5)+'2Q',\n",
    "                np.where(statement['Date'].str.slice(5,7).astype('int64') <= 9, statement['Date'].str.slice(0,5)+'3Q',statement['Date'].str.slice(0,5)+'4Q')))"
   ]
  },
  {
   "cell_type": "code",
   "execution_count": 33,
   "metadata": {},
   "outputs": [
    {
     "data": {
      "text/plain": [
       "0       2007-1Q\n",
       "1       2007-1Q\n",
       "2       2007-1Q\n",
       "3       2007-1Q\n",
       "4       2007-1Q\n",
       "         ...   \n",
       "3643    2021-2Q\n",
       "3644    2021-2Q\n",
       "3645    2021-2Q\n",
       "3646    2021-2Q\n",
       "3647    2021-2Q\n",
       "Name: Q, Length: 3648, dtype: object"
      ]
     },
     "execution_count": 33,
     "metadata": {},
     "output_type": "execute_result"
    }
   ],
   "source": [
    "XOM_price['Q'] "
   ]
  },
  {
   "cell_type": "code",
   "execution_count": 13,
   "metadata": {},
   "outputs": [],
   "source": [
    "#1.4 주가(분기별 평균) + 재무재표 (분기별) 분기 기준 병합"
   ]
  },
  {
   "cell_type": "code",
   "execution_count": 61,
   "metadata": {},
   "outputs": [
    {
     "data": {
      "text/plain": [
       "(58, 6)"
      ]
     },
     "execution_count": 61,
     "metadata": {},
     "output_type": "execute_result"
    }
   ],
   "source": [
    "XOM_price.groupby('Q').mean().shape"
   ]
  },
  {
   "cell_type": "code",
   "execution_count": 34,
   "metadata": {},
   "outputs": [],
   "source": [
    "Statement_XOM = pd.merge(XOM_price.groupby('Q').mean().reset_index(),statement,on = 'Q')"
   ]
  },
  {
   "cell_type": "code",
   "execution_count": 14,
   "metadata": {},
   "outputs": [],
   "source": [
    "#2 데이터 확인"
   ]
  },
  {
   "cell_type": "code",
   "execution_count": 15,
   "metadata": {},
   "outputs": [],
   "source": [
    "#2.1 사용할 데이터 (재무제표 변수들중) - 재무제표를 통해 기업 분석하는 3가지 관점"
   ]
  },
  {
   "cell_type": "code",
   "execution_count": 35,
   "metadata": {},
   "outputs": [],
   "source": [
    "H4_data = Statement_XOM[['Q','Close','부채총계', '자산총계', '순이익', '매출액']]"
   ]
  },
  {
   "cell_type": "code",
   "execution_count": 36,
   "metadata": {},
   "outputs": [
    {
     "data": {
      "text/plain": [
       "Index(['Q', 'Open', 'High', 'Low', 'Close', 'Adj Close', 'Volume', 'Date',\n",
       "       '매출액', '매출원가', '매출총이익', '판매관리비', '연구개발비', '영업이익', 'EBITDA', '법인세',\n",
       "       '중단손익', '순이익', '현금성자산', '단기투자', '매출채권등', '재고자산', '장기투자', '유형자산', '무형자산',\n",
       "       '이연세자산', '기타자산', '자산총계', '매입채무등', '단기차입금', '장기차입금', '이연수익', '이연세부채',\n",
       "       '기타부채', '부채총계', '이익잉여금', '기타포괄익', '자본총계', '영업활동', '투자활동', '재무활동',\n",
       "       '환율변동', '현금의증감', '자본적지출', '잉여현금', 'ROI'],\n",
       "      dtype='object')"
      ]
     },
     "execution_count": 36,
     "metadata": {},
     "output_type": "execute_result"
    }
   ],
   "source": [
    "Statement_XOM.columns"
   ]
  },
  {
   "cell_type": "code",
   "execution_count": 17,
   "metadata": {},
   "outputs": [],
   "source": [
    "# 2.2 수치 데이터중 ,로 인해 object형식인것들 수정"
   ]
  },
  {
   "cell_type": "code",
   "execution_count": 37,
   "metadata": {},
   "outputs": [
    {
     "name": "stderr",
     "output_type": "stream",
     "text": [
      "C:\\Users\\admin\\Anaconda3\\lib\\site-packages\\ipykernel_launcher.py:1: SettingWithCopyWarning: \n",
      "A value is trying to be set on a copy of a slice from a DataFrame.\n",
      "Try using .loc[row_indexer,col_indexer] = value instead\n",
      "\n",
      "See the caveats in the documentation: https://pandas.pydata.org/pandas-docs/stable/user_guide/indexing.html#returning-a-view-versus-a-copy\n",
      "  \"\"\"Entry point for launching an IPython kernel.\n"
     ]
    }
   ],
   "source": [
    "H4_data['부채총계'] = H4_data['부채총계'].str.replace(',','').astype('int64')"
   ]
  },
  {
   "cell_type": "code",
   "execution_count": 38,
   "metadata": {},
   "outputs": [
    {
     "name": "stderr",
     "output_type": "stream",
     "text": [
      "C:\\Users\\admin\\Anaconda3\\lib\\site-packages\\ipykernel_launcher.py:1: SettingWithCopyWarning: \n",
      "A value is trying to be set on a copy of a slice from a DataFrame.\n",
      "Try using .loc[row_indexer,col_indexer] = value instead\n",
      "\n",
      "See the caveats in the documentation: https://pandas.pydata.org/pandas-docs/stable/user_guide/indexing.html#returning-a-view-versus-a-copy\n",
      "  \"\"\"Entry point for launching an IPython kernel.\n"
     ]
    }
   ],
   "source": [
    "H4_data['매출액'] = H4_data['매출액'].str.replace(',','').astype('int64')"
   ]
  },
  {
   "cell_type": "code",
   "execution_count": 63,
   "metadata": {},
   "outputs": [],
   "source": [
    "# 2.3 파생변수 추가"
   ]
  },
  {
   "cell_type": "code",
   "execution_count": 48,
   "metadata": {},
   "outputs": [],
   "source": [
    "H4_data['부채비율'] = H4_data['부채총계']/H4_data['자산총계']"
   ]
  },
  {
   "cell_type": "code",
   "execution_count": 48,
   "metadata": {},
   "outputs": [],
   "source": [
    "H4_data['자기자본이익률'] = H4_data['순이익']/H4_data['자산총계']"
   ]
  },
  {
   "cell_type": "code",
   "execution_count": 48,
   "metadata": {},
   "outputs": [],
   "source": [
    "H4_data['매출순이익률'] = H4_data['순이익']/H4_data['매출액']"
   ]
  },
  {
   "cell_type": "code",
   "execution_count": 19,
   "metadata": {},
   "outputs": [],
   "source": [
    "#. 3 데이터확인"
   ]
  },
  {
   "cell_type": "code",
   "execution_count": 62,
   "metadata": {},
   "outputs": [
    {
     "data": {
      "text/plain": [
       "(41, 11)"
      ]
     },
     "execution_count": 62,
     "metadata": {},
     "output_type": "execute_result"
    }
   ],
   "source": [
    "H4_data.shape"
   ]
  },
  {
   "cell_type": "code",
   "execution_count": 51,
   "metadata": {},
   "outputs": [
    {
     "data": {
      "text/plain": [
       "<matplotlib.axes._subplots.AxesSubplot at 0x28d72df5ba8>"
      ]
     },
     "execution_count": 51,
     "metadata": {},
     "output_type": "execute_result"
    },
    {
     "data": {
      "image/png": "[encoded data removed]",
      "text/plain": [
       "<Figure size 1080x360 with 1 Axes>"
      ]
     },
     "metadata": {
      "needs_background": "light"
     },
     "output_type": "display_data"
    }
   ],
   "source": [
    "H4_data[['Q','부채총계','자산총계','순이익','매출액']].plot.line(x = 'Q',figsize = (15,5))"
   ]
  },
  {
   "cell_type": "code",
   "execution_count": 54,
   "metadata": {},
   "outputs": [
    {
     "data": {
      "text/plain": [
       "<matplotlib.axes._subplots.AxesSubplot at 0x28d75529f60>"
      ]
     },
     "execution_count": 54,
     "metadata": {},
     "output_type": "execute_result"
    },
    {
     "data": {
      "image/png": "[encoded data removed]",
      "text/plain": [
       "<Figure size 1080x360 with 1 Axes>"
      ]
     },
     "metadata": {
      "needs_background": "light"
     },
     "output_type": "display_data"
    }
   ],
   "source": [
    "H4_data[['Q','Close']].plot.line(x = 'Q',figsize = (15,5))"
   ]
  },
  {
   "cell_type": "code",
   "execution_count": 52,
   "metadata": {},
   "outputs": [
    {
     "data": {
      "text/plain": [
       "<matplotlib.axes._subplots.AxesSubplot at 0x28d7543fcf8>"
      ]
     },
     "execution_count": 52,
     "metadata": {},
     "output_type": "execute_result"
    },
    {
     "data": {
      "image/png": "[encoded data removed]",
      "text/plain": [
       "<Figure size 1080x360 with 1 Axes>"
      ]
     },
     "metadata": {
      "needs_background": "light"
     },
     "output_type": "display_data"
    }
   ],
   "source": [
    "H4_data[['Q','부채비율','자기자본이익률','매출순이익률']].plot.line(x = 'Q',figsize = (15,5))"
   ]
  },
  {
   "cell_type": "code",
   "execution_count": 58,
   "metadata": {},
   "outputs": [
    {
     "data": {
      "text/plain": [
       "<matplotlib.axes._subplots.AxesSubplot at 0x28d763c50f0>"
      ]
     },
     "execution_count": 58,
     "metadata": {},
     "output_type": "execute_result"
    },
    {
     "data": {
      "image/png": "[encoded data removed]",
      "text/plain": [
       "<Figure size 1080x360 with 1 Axes>"
      ]
     },
     "metadata": {
      "needs_background": "light"
     },
     "output_type": "display_data"
    }
   ],
   "source": [
    "H4_data[['Q','scaler_Close','scaler_순이익']].plot.line(x = 'Q',figsize = (15,5))"
   ]
  },
  {
   "cell_type": "code",
   "execution_count": 55,
   "metadata": {},
   "outputs": [],
   "source": [
    "column = ['Close','순이익']"
   ]
  },
  {
   "cell_type": "code",
   "execution_count": 56,
   "metadata": {},
   "outputs": [
    {
     "name": "stderr",
     "output_type": "stream",
     "text": [
      "C:\\Users\\admin\\Anaconda3\\lib\\site-packages\\ipykernel_launcher.py:6: SettingWithCopyWarning: \n",
      "A value is trying to be set on a copy of a slice from a DataFrame.\n",
      "Try using .loc[row_indexer,col_indexer] = value instead\n",
      "\n",
      "See the caveats in the documentation: https://pandas.pydata.org/pandas-docs/stable/user_guide/indexing.html#returning-a-view-versus-a-copy\n",
      "  \n",
      "C:\\Users\\admin\\Anaconda3\\lib\\site-packages\\sklearn\\utils\\validation.py:595: DataConversionWarning: Data with input dtype int64 was converted to float64 by StandardScaler.\n",
      "  warnings.warn(msg, DataConversionWarning)\n",
      "C:\\Users\\admin\\Anaconda3\\lib\\site-packages\\sklearn\\utils\\validation.py:595: DataConversionWarning: Data with input dtype int64 was converted to float64 by StandardScaler.\n",
      "  warnings.warn(msg, DataConversionWarning)\n",
      "C:\\Users\\admin\\Anaconda3\\lib\\site-packages\\ipykernel_launcher.py:6: SettingWithCopyWarning: \n",
      "A value is trying to be set on a copy of a slice from a DataFrame.\n",
      "Try using .loc[row_indexer,col_indexer] = value instead\n",
      "\n",
      "See the caveats in the documentation: https://pandas.pydata.org/pandas-docs/stable/user_guide/indexing.html#returning-a-view-versus-a-copy\n",
      "  \n"
     ]
    }
   ],
   "source": [
    "from sklearn.preprocessing import StandardScaler\n",
    "\n",
    "# Standardization 평균 0 / 분산 1\n",
    "scaler = StandardScaler()   \n",
    "for i in column:\n",
    "    H4_data['scaler_'+i] = scaler.fit_transform(H4_data[i].values.reshape(-1,1))"
   ]
  },
  {
   "cell_type": "code",
   "execution_count": 115,
   "metadata": {},
   "outputs": [
    {
     "data": {
      "text/plain": [
       "<matplotlib.axes._subplots.AxesSubplot at 0x1db4777b630>"
      ]
     },
     "execution_count": 115,
     "metadata": {},
     "output_type": "execute_result"
    },
    {
     "data": {
      "image/png": "[encoded data removed]",
      "text/plain": [
       "<Figure size 1080x720 with 1 Axes>"
      ]
     },
     "metadata": {
      "needs_background": "light"
     },
     "output_type": "display_data"
    }
   ],
   "source": [
    "H4_data[['부채총계','자산총계','순이익','매출액']].boxplot(figsize = (15,10))"
   ]
  },
  {
   "cell_type": "code",
   "execution_count": 77,
   "metadata": {},
   "outputs": [
    {
     "data": {
      "text/plain": [
       "<matplotlib.axes._subplots.AxesSubplot at 0x1db42d55dd8>"
      ]
     },
     "execution_count": 77,
     "metadata": {},
     "output_type": "execute_result"
    },
    {
     "data": {
      "image/png": "[encoded data removed]",
      "text/plain": [
       "<Figure size 360x720 with 1 Axes>"
      ]
     },
     "metadata": {
      "needs_background": "light"
     },
     "output_type": "display_data"
    }
   ],
   "source": [
    "H4_data[['Close']].boxplot(figsize=(5,10))"
   ]
  },
  {
   "cell_type": "code",
   "execution_count": 78,
   "metadata": {},
   "outputs": [
    {
     "data": {
      "text/plain": [
       "<matplotlib.axes._subplots.AxesSubplot at 0x1db425655c0>"
      ]
     },
     "execution_count": 78,
     "metadata": {},
     "output_type": "execute_result"
    },
    {
     "data": {
      "image/png": "[encoded data removed]",
      "text/plain": [
       "<Figure size 360x720 with 1 Axes>"
      ]
     },
     "metadata": {
      "needs_background": "light"
     },
     "output_type": "display_data"
    }
   ],
   "source": [
    "H4_data[['부채비율','자기자본이익률','매출순이익률']].boxplot(figsize=(5,10))"
   ]
  },
  {
   "cell_type": "code",
   "execution_count": 80,
   "metadata": {},
   "outputs": [
    {
     "data": {
      "text/plain": [
       "(0.5377566841466711, 0.00028790103389410835)"
      ]
     },
     "execution_count": 80,
     "metadata": {},
     "output_type": "execute_result"
    }
   ],
   "source": [
    "stats.pearsonr(H4_data['Close'],H4_data['매출액'])"
   ]
  },
  {
   "cell_type": "code",
   "execution_count": 81,
   "metadata": {},
   "outputs": [
    {
     "data": {
      "text/plain": [
       "(-0.060427191514533726, 0.7074370902297735)"
      ]
     },
     "execution_count": 81,
     "metadata": {},
     "output_type": "execute_result"
    }
   ],
   "source": [
    "stats.pearsonr(H4_data['Close'],H4_data['부채비율'])"
   ]
  },
  {
   "cell_type": "code",
   "execution_count": 65,
   "metadata": {},
   "outputs": [],
   "source": [
    "#4. 연관관계 분석"
   ]
  },
  {
   "cell_type": "code",
   "execution_count": 67,
   "metadata": {},
   "outputs": [],
   "source": [
    "target_list = list(H4_data.columns.values)"
   ]
  },
  {
   "cell_type": "code",
   "execution_count": 76,
   "metadata": {},
   "outputs": [],
   "source": [
    "target_list = target_list[:-2]"
   ]
  },
  {
   "cell_type": "code",
   "execution_count": 79,
   "metadata": {},
   "outputs": [
    {
     "name": "stdout",
     "output_type": "stream",
     "text": [
      "EOM의 종가와 부채총계 의 상관관계\n",
      "(-0.1572791734550756, 0.3260685004812921)\n",
      "EOM의 종가와 자산총계 의 상관관계\n",
      "(-0.11074105871035282, 0.4906441678851343)\n",
      "EOM의 종가와 순이익 의 상관관계\n",
      "(0.6788101445653428, 1.0705602414397635e-06)\n",
      "EOM의 종가와 매출액 의 상관관계\n",
      "(0.5377566841466711, 0.00028790103389410835)\n",
      "EOM의 종가와 부채비율 의 상관관계\n",
      "(-0.060427191514533726, 0.7074370902297735)\n",
      "EOM의 종가와 자기자본이익률 의 상관관계\n",
      "(0.6642159754827678, 2.190393890994093e-06)\n",
      "EOM의 종가와 매출순이익률 의 상관관계\n",
      "(0.6502410253203148, 4.1951981760783025e-06)\n"
     ]
    },
    {
     "data": {
      "image/png": "[encoded data removed]",
      "text/plain": [
       "<Figure size 360x360 with 1 Axes>"
      ]
     },
     "metadata": {
      "needs_background": "light"
     },
     "output_type": "display_data"
    },
    {
     "data": {
      "image/png": "[encoded data removed]",
      "text/plain": [
       "<Figure size 360x360 with 1 Axes>"
      ]
     },
     "metadata": {
      "needs_background": "light"
     },
     "output_type": "display_data"
    },
    {
     "data": {
      "image/png": "[encoded data removed]",
      "text/plain": [
       "<Figure size 360x360 with 1 Axes>"
      ]
     },
     "metadata": {
      "needs_background": "light"
     },
     "output_type": "display_data"
    },
    {
     "data": {
      "image/png": "[encoded data removed]",
      "text/plain": [
       "<Figure size 360x360 with 1 Axes>"
      ]
     },
     "metadata": {
      "needs_background": "light"
     },
     "output_type": "display_data"
    }
   ],
   "source": [
    "for i in target_list:\n",
    "    coff_result = stats.pearsonr(H4_data['Close'],H4_data[i])\n",
    "    print('EOM의 종가와',i,'의 상관관계')\n",
    "    print(coff_result)\n",
    "    if coff_result[1]<0.05:\n",
    "        H4_data.loc[H4_data.순이익>0][['Close',i]].plot.scatter(x = 'Close', y = i,figsize = (5,5))"
   ]
  },
  {
   "cell_type": "code",
   "execution_count": 80,
   "metadata": {},
   "outputs": [],
   "source": [
    "#5. 순이익이 0이상인지점 따로보기"
   ]
  },
  {
   "cell_type": "code",
   "execution_count": 98,
   "metadata": {},
   "outputs": [
    {
     "data": {
      "text/html": [
       "<div>\n",
       "<style scoped>\n",
       "    .dataframe tbody tr th:only-of-type {\n",
       "        vertical-align: middle;\n",
       "    }\n",
       "\n",
       "    .dataframe tbody tr th {\n",
       "        vertical-align: top;\n",
       "    }\n",
       "\n",
       "    .dataframe thead th {\n",
       "        text-align: right;\n",
       "    }\n",
       "</style>\n",
       "<table border=\"1\" class=\"dataframe\">\n",
       "  <thead>\n",
       "    <tr style=\"text-align: right;\">\n",
       "      <th></th>\n",
       "      <th>Q</th>\n",
       "      <th>Close</th>\n",
       "      <th>부채총계</th>\n",
       "      <th>자산총계</th>\n",
       "      <th>순이익</th>\n",
       "      <th>매출액</th>\n",
       "      <th>부채비율</th>\n",
       "      <th>자기자본이익률</th>\n",
       "      <th>매출순이익률</th>\n",
       "    </tr>\n",
       "  </thead>\n",
       "  <tbody>\n",
       "    <tr>\n",
       "      <th>0</th>\n",
       "      <td>2011-1Q</td>\n",
       "      <td>81.590484</td>\n",
       "      <td>162002</td>\n",
       "      <td>319533</td>\n",
       "      <td>10650</td>\n",
       "      <td>114004</td>\n",
       "      <td>0.506996</td>\n",
       "      <td>0.033330</td>\n",
       "      <td>0.093418</td>\n",
       "    </tr>\n",
       "    <tr>\n",
       "      <th>1</th>\n",
       "      <td>2011-2Q</td>\n",
       "      <td>82.464603</td>\n",
       "      <td>164369</td>\n",
       "      <td>326204</td>\n",
       "      <td>10680</td>\n",
       "      <td>125486</td>\n",
       "      <td>0.503884</td>\n",
       "      <td>0.032740</td>\n",
       "      <td>0.085109</td>\n",
       "    </tr>\n",
       "    <tr>\n",
       "      <th>2</th>\n",
       "      <td>2011-3Q</td>\n",
       "      <td>75.921406</td>\n",
       "      <td>161015</td>\n",
       "      <td>323227</td>\n",
       "      <td>10330</td>\n",
       "      <td>125330</td>\n",
       "      <td>0.498148</td>\n",
       "      <td>0.031959</td>\n",
       "      <td>0.082422</td>\n",
       "    </tr>\n",
       "    <tr>\n",
       "      <th>3</th>\n",
       "      <td>2011-4Q</td>\n",
       "      <td>78.962381</td>\n",
       "      <td>170308</td>\n",
       "      <td>331052</td>\n",
       "      <td>9400</td>\n",
       "      <td>121609</td>\n",
       "      <td>0.514445</td>\n",
       "      <td>0.028394</td>\n",
       "      <td>0.077297</td>\n",
       "    </tr>\n",
       "    <tr>\n",
       "      <th>4</th>\n",
       "      <td>2012-1Q</td>\n",
       "      <td>85.893549</td>\n",
       "      <td>181035</td>\n",
       "      <td>345152</td>\n",
       "      <td>9450</td>\n",
       "      <td>124053</td>\n",
       "      <td>0.524508</td>\n",
       "      <td>0.027379</td>\n",
       "      <td>0.076177</td>\n",
       "    </tr>\n",
       "    <tr>\n",
       "      <th>5</th>\n",
       "      <td>2012-2Q</td>\n",
       "      <td>83.138571</td>\n",
       "      <td>161660</td>\n",
       "      <td>329645</td>\n",
       "      <td>15910</td>\n",
       "      <td>127363</td>\n",
       "      <td>0.490406</td>\n",
       "      <td>0.048264</td>\n",
       "      <td>0.124919</td>\n",
       "    </tr>\n",
       "    <tr>\n",
       "      <th>6</th>\n",
       "      <td>2012-3Q</td>\n",
       "      <td>87.861429</td>\n",
       "      <td>162836</td>\n",
       "      <td>335191</td>\n",
       "      <td>9570</td>\n",
       "      <td>115141</td>\n",
       "      <td>0.485801</td>\n",
       "      <td>0.028551</td>\n",
       "      <td>0.083115</td>\n",
       "    </tr>\n",
       "    <tr>\n",
       "      <th>7</th>\n",
       "      <td>2012-4Q</td>\n",
       "      <td>89.276774</td>\n",
       "      <td>162135</td>\n",
       "      <td>333795</td>\n",
       "      <td>9950</td>\n",
       "      <td>114699</td>\n",
       "      <td>0.485732</td>\n",
       "      <td>0.029809</td>\n",
       "      <td>0.086749</td>\n",
       "    </tr>\n",
       "    <tr>\n",
       "      <th>8</th>\n",
       "      <td>2013-1Q</td>\n",
       "      <td>89.363333</td>\n",
       "      <td>166562</td>\n",
       "      <td>339639</td>\n",
       "      <td>9500</td>\n",
       "      <td>108357</td>\n",
       "      <td>0.490409</td>\n",
       "      <td>0.027971</td>\n",
       "      <td>0.087673</td>\n",
       "    </tr>\n",
       "    <tr>\n",
       "      <th>9</th>\n",
       "      <td>2013-2Q</td>\n",
       "      <td>89.980312</td>\n",
       "      <td>170027</td>\n",
       "      <td>341615</td>\n",
       "      <td>6860</td>\n",
       "      <td>106666</td>\n",
       "      <td>0.497715</td>\n",
       "      <td>0.020081</td>\n",
       "      <td>0.064313</td>\n",
       "    </tr>\n",
       "    <tr>\n",
       "      <th>10</th>\n",
       "      <td>2013-3Q</td>\n",
       "      <td>90.155156</td>\n",
       "      <td>172086</td>\n",
       "      <td>347564</td>\n",
       "      <td>7870</td>\n",
       "      <td>112372</td>\n",
       "      <td>0.495120</td>\n",
       "      <td>0.022643</td>\n",
       "      <td>0.070035</td>\n",
       "    </tr>\n",
       "    <tr>\n",
       "      <th>11</th>\n",
       "      <td>2013-4Q</td>\n",
       "      <td>92.461250</td>\n",
       "      <td>166313</td>\n",
       "      <td>346808</td>\n",
       "      <td>8350</td>\n",
       "      <td>110860</td>\n",
       "      <td>0.479554</td>\n",
       "      <td>0.024077</td>\n",
       "      <td>0.075320</td>\n",
       "    </tr>\n",
       "    <tr>\n",
       "      <th>12</th>\n",
       "      <td>2014-1Q</td>\n",
       "      <td>95.321148</td>\n",
       "      <td>170142</td>\n",
       "      <td>353033</td>\n",
       "      <td>9100</td>\n",
       "      <td>106325</td>\n",
       "      <td>0.481944</td>\n",
       "      <td>0.025777</td>\n",
       "      <td>0.085587</td>\n",
       "    </tr>\n",
       "    <tr>\n",
       "      <th>13</th>\n",
       "      <td>2014-2Q</td>\n",
       "      <td>100.873492</td>\n",
       "      <td>170455</td>\n",
       "      <td>358586</td>\n",
       "      <td>8780</td>\n",
       "      <td>111208</td>\n",
       "      <td>0.475353</td>\n",
       "      <td>0.024485</td>\n",
       "      <td>0.078951</td>\n",
       "    </tr>\n",
       "    <tr>\n",
       "      <th>14</th>\n",
       "      <td>2014-3Q</td>\n",
       "      <td>99.597656</td>\n",
       "      <td>165269</td>\n",
       "      <td>352764</td>\n",
       "      <td>8070</td>\n",
       "      <td>107130</td>\n",
       "      <td>0.468497</td>\n",
       "      <td>0.022876</td>\n",
       "      <td>0.075329</td>\n",
       "    </tr>\n",
       "    <tr>\n",
       "      <th>15</th>\n",
       "      <td>2014-4Q</td>\n",
       "      <td>93.253124</td>\n",
       "      <td>168429</td>\n",
       "      <td>349493</td>\n",
       "      <td>6570</td>\n",
       "      <td>87276</td>\n",
       "      <td>0.481924</td>\n",
       "      <td>0.018799</td>\n",
       "      <td>0.075278</td>\n",
       "    </tr>\n",
       "    <tr>\n",
       "      <th>16</th>\n",
       "      <td>2015-1Q</td>\n",
       "      <td>88.674591</td>\n",
       "      <td>165515</td>\n",
       "      <td>342961</td>\n",
       "      <td>4940</td>\n",
       "      <td>67618</td>\n",
       "      <td>0.482606</td>\n",
       "      <td>0.014404</td>\n",
       "      <td>0.073057</td>\n",
       "    </tr>\n",
       "    <tr>\n",
       "      <th>17</th>\n",
       "      <td>2015-2Q</td>\n",
       "      <td>85.972698</td>\n",
       "      <td>169262</td>\n",
       "      <td>348260</td>\n",
       "      <td>4190</td>\n",
       "      <td>74113</td>\n",
       "      <td>0.486022</td>\n",
       "      <td>0.012031</td>\n",
       "      <td>0.056535</td>\n",
       "    </tr>\n",
       "    <tr>\n",
       "      <th>18</th>\n",
       "      <td>2015-3Q</td>\n",
       "      <td>77.051875</td>\n",
       "      <td>163823</td>\n",
       "      <td>340662</td>\n",
       "      <td>4240</td>\n",
       "      <td>67344</td>\n",
       "      <td>0.480896</td>\n",
       "      <td>0.012446</td>\n",
       "      <td>0.062960</td>\n",
       "    </tr>\n",
       "    <tr>\n",
       "      <th>19</th>\n",
       "      <td>2015-4Q</td>\n",
       "      <td>79.937813</td>\n",
       "      <td>159948</td>\n",
       "      <td>336758</td>\n",
       "      <td>2780</td>\n",
       "      <td>40173</td>\n",
       "      <td>0.474964</td>\n",
       "      <td>0.008255</td>\n",
       "      <td>0.069201</td>\n",
       "    </tr>\n",
       "    <tr>\n",
       "      <th>20</th>\n",
       "      <td>2016-1Q</td>\n",
       "      <td>80.085902</td>\n",
       "      <td>164291</td>\n",
       "      <td>342789</td>\n",
       "      <td>1810</td>\n",
       "      <td>48707</td>\n",
       "      <td>0.479277</td>\n",
       "      <td>0.005280</td>\n",
       "      <td>0.037161</td>\n",
       "    </tr>\n",
       "    <tr>\n",
       "      <th>21</th>\n",
       "      <td>2016-2Q</td>\n",
       "      <td>88.420313</td>\n",
       "      <td>165598</td>\n",
       "      <td>342473</td>\n",
       "      <td>1700</td>\n",
       "      <td>57694</td>\n",
       "      <td>0.483536</td>\n",
       "      <td>0.004964</td>\n",
       "      <td>0.029466</td>\n",
       "    </tr>\n",
       "    <tr>\n",
       "      <th>22</th>\n",
       "      <td>2016-3Q</td>\n",
       "      <td>88.720155</td>\n",
       "      <td>162376</td>\n",
       "      <td>339386</td>\n",
       "      <td>2650</td>\n",
       "      <td>58677</td>\n",
       "      <td>0.478440</td>\n",
       "      <td>0.007808</td>\n",
       "      <td>0.045162</td>\n",
       "    </tr>\n",
       "    <tr>\n",
       "      <th>23</th>\n",
       "      <td>2016-4Q</td>\n",
       "      <td>87.383016</td>\n",
       "      <td>156484</td>\n",
       "      <td>330314</td>\n",
       "      <td>1680</td>\n",
       "      <td>43036</td>\n",
       "      <td>0.473743</td>\n",
       "      <td>0.005086</td>\n",
       "      <td>0.039037</td>\n",
       "    </tr>\n",
       "    <tr>\n",
       "      <th>24</th>\n",
       "      <td>2017-1Q</td>\n",
       "      <td>83.543064</td>\n",
       "      <td>160438</td>\n",
       "      <td>344209</td>\n",
       "      <td>4010</td>\n",
       "      <td>58671</td>\n",
       "      <td>0.466106</td>\n",
       "      <td>0.011650</td>\n",
       "      <td>0.068347</td>\n",
       "    </tr>\n",
       "    <tr>\n",
       "      <th>25</th>\n",
       "      <td>2017-2Q</td>\n",
       "      <td>81.818572</td>\n",
       "      <td>157174</td>\n",
       "      <td>343012</td>\n",
       "      <td>3350</td>\n",
       "      <td>58077</td>\n",
       "      <td>0.458217</td>\n",
       "      <td>0.009766</td>\n",
       "      <td>0.057682</td>\n",
       "    </tr>\n",
       "    <tr>\n",
       "      <th>26</th>\n",
       "      <td>2017-3Q</td>\n",
       "      <td>79.404444</td>\n",
       "      <td>160229</td>\n",
       "      <td>349427</td>\n",
       "      <td>3970</td>\n",
       "      <td>61100</td>\n",
       "      <td>0.458548</td>\n",
       "      <td>0.011361</td>\n",
       "      <td>0.064975</td>\n",
       "    </tr>\n",
       "    <tr>\n",
       "      <th>27</th>\n",
       "      <td>2017-4Q</td>\n",
       "      <td>82.706984</td>\n",
       "      <td>154191</td>\n",
       "      <td>348691</td>\n",
       "      <td>8380</td>\n",
       "      <td>66515</td>\n",
       "      <td>0.442200</td>\n",
       "      <td>0.024033</td>\n",
       "      <td>0.125987</td>\n",
       "    </tr>\n",
       "    <tr>\n",
       "      <th>28</th>\n",
       "      <td>2018-1Q</td>\n",
       "      <td>79.935574</td>\n",
       "      <td>153915</td>\n",
       "      <td>348826</td>\n",
       "      <td>4650</td>\n",
       "      <td>68211</td>\n",
       "      <td>0.441237</td>\n",
       "      <td>0.013330</td>\n",
       "      <td>0.068171</td>\n",
       "    </tr>\n",
       "    <tr>\n",
       "      <th>29</th>\n",
       "      <td>2018-2Q</td>\n",
       "      <td>79.674531</td>\n",
       "      <td>155257</td>\n",
       "      <td>348790</td>\n",
       "      <td>3950</td>\n",
       "      <td>73501</td>\n",
       "      <td>0.445130</td>\n",
       "      <td>0.011325</td>\n",
       "      <td>0.053741</td>\n",
       "    </tr>\n",
       "    <tr>\n",
       "      <th>30</th>\n",
       "      <td>2018-3Q</td>\n",
       "      <td>81.759524</td>\n",
       "      <td>157797</td>\n",
       "      <td>354628</td>\n",
       "      <td>6240</td>\n",
       "      <td>76605</td>\n",
       "      <td>0.444965</td>\n",
       "      <td>0.017596</td>\n",
       "      <td>0.081457</td>\n",
       "    </tr>\n",
       "    <tr>\n",
       "      <th>31</th>\n",
       "      <td>2018-4Q</td>\n",
       "      <td>78.456984</td>\n",
       "      <td>147668</td>\n",
       "      <td>346196</td>\n",
       "      <td>6000</td>\n",
       "      <td>71895</td>\n",
       "      <td>0.426545</td>\n",
       "      <td>0.017331</td>\n",
       "      <td>0.083455</td>\n",
       "    </tr>\n",
       "    <tr>\n",
       "      <th>32</th>\n",
       "      <td>2019-1Q</td>\n",
       "      <td>76.243771</td>\n",
       "      <td>158168</td>\n",
       "      <td>356189</td>\n",
       "      <td>2350</td>\n",
       "      <td>63625</td>\n",
       "      <td>0.444056</td>\n",
       "      <td>0.006598</td>\n",
       "      <td>0.036935</td>\n",
       "    </tr>\n",
       "    <tr>\n",
       "      <th>33</th>\n",
       "      <td>2019-2Q</td>\n",
       "      <td>77.411269</td>\n",
       "      <td>162264</td>\n",
       "      <td>360729</td>\n",
       "      <td>3130</td>\n",
       "      <td>69091</td>\n",
       "      <td>0.449822</td>\n",
       "      <td>0.008677</td>\n",
       "      <td>0.045303</td>\n",
       "    </tr>\n",
       "    <tr>\n",
       "      <th>34</th>\n",
       "      <td>2019-3Q</td>\n",
       "      <td>72.308281</td>\n",
       "      <td>162252</td>\n",
       "      <td>359361</td>\n",
       "      <td>3170</td>\n",
       "      <td>65049</td>\n",
       "      <td>0.451501</td>\n",
       "      <td>0.008821</td>\n",
       "      <td>0.048732</td>\n",
       "    </tr>\n",
       "    <tr>\n",
       "      <th>35</th>\n",
       "      <td>2019-4Q</td>\n",
       "      <td>69.150312</td>\n",
       "      <td>163659</td>\n",
       "      <td>362597</td>\n",
       "      <td>5690</td>\n",
       "      <td>67173</td>\n",
       "      <td>0.451352</td>\n",
       "      <td>0.015692</td>\n",
       "      <td>0.084707</td>\n",
       "    </tr>\n",
       "    <tr>\n",
       "      <th>40</th>\n",
       "      <td>2021-1Q</td>\n",
       "      <td>52.428689</td>\n",
       "      <td>169669</td>\n",
       "      <td>333770</td>\n",
       "      <td>2730</td>\n",
       "      <td>59147</td>\n",
       "      <td>0.508341</td>\n",
       "      <td>0.008179</td>\n",
       "      <td>0.046156</td>\n",
       "    </tr>\n",
       "  </tbody>\n",
       "</table>\n",
       "</div>"
      ],
      "text/plain": [
       "          Q       Close    부채총계    자산총계    순이익     매출액      부채비율   자기자본이익률  \\\n",
       "0   2011-1Q   81.590484  162002  319533  10650  114004  0.506996  0.033330   \n",
       "1   2011-2Q   82.464603  164369  326204  10680  125486  0.503884  0.032740   \n",
       "2   2011-3Q   75.921406  161015  323227  10330  125330  0.498148  0.031959   \n",
       "3   2011-4Q   78.962381  170308  331052   9400  121609  0.514445  0.028394   \n",
       "4   2012-1Q   85.893549  181035  345152   9450  124053  0.524508  0.027379   \n",
       "5   2012-2Q   83.138571  161660  329645  15910  127363  0.490406  0.048264   \n",
       "6   2012-3Q   87.861429  162836  335191   9570  115141  0.485801  0.028551   \n",
       "7   2012-4Q   89.276774  162135  333795   9950  114699  0.485732  0.029809   \n",
       "8   2013-1Q   89.363333  166562  339639   9500  108357  0.490409  0.027971   \n",
       "9   2013-2Q   89.980312  170027  341615   6860  106666  0.497715  0.020081   \n",
       "10  2013-3Q   90.155156  172086  347564   7870  112372  0.495120  0.022643   \n",
       "11  2013-4Q   92.461250  166313  346808   8350  110860  0.479554  0.024077   \n",
       "12  2014-1Q   95.321148  170142  353033   9100  106325  0.481944  0.025777   \n",
       "13  2014-2Q  100.873492  170455  358586   8780  111208  0.475353  0.024485   \n",
       "14  2014-3Q   99.597656  165269  352764   8070  107130  0.468497  0.022876   \n",
       "15  2014-4Q   93.253124  168429  349493   6570   87276  0.481924  0.018799   \n",
       "16  2015-1Q   88.674591  165515  342961   4940   67618  0.482606  0.014404   \n",
       "17  2015-2Q   85.972698  169262  348260   4190   74113  0.486022  0.012031   \n",
       "18  2015-3Q   77.051875  163823  340662   4240   67344  0.480896  0.012446   \n",
       "19  2015-4Q   79.937813  159948  336758   2780   40173  0.474964  0.008255   \n",
       "20  2016-1Q   80.085902  164291  342789   1810   48707  0.479277  0.005280   \n",
       "21  2016-2Q   88.420313  165598  342473   1700   57694  0.483536  0.004964   \n",
       "22  2016-3Q   88.720155  162376  339386   2650   58677  0.478440  0.007808   \n",
       "23  2016-4Q   87.383016  156484  330314   1680   43036  0.473743  0.005086   \n",
       "24  2017-1Q   83.543064  160438  344209   4010   58671  0.466106  0.011650   \n",
       "25  2017-2Q   81.818572  157174  343012   3350   58077  0.458217  0.009766   \n",
       "26  2017-3Q   79.404444  160229  349427   3970   61100  0.458548  0.011361   \n",
       "27  2017-4Q   82.706984  154191  348691   8380   66515  0.442200  0.024033   \n",
       "28  2018-1Q   79.935574  153915  348826   4650   68211  0.441237  0.013330   \n",
       "29  2018-2Q   79.674531  155257  348790   3950   73501  0.445130  0.011325   \n",
       "30  2018-3Q   81.759524  157797  354628   6240   76605  0.444965  0.017596   \n",
       "31  2018-4Q   78.456984  147668  346196   6000   71895  0.426545  0.017331   \n",
       "32  2019-1Q   76.243771  158168  356189   2350   63625  0.444056  0.006598   \n",
       "33  2019-2Q   77.411269  162264  360729   3130   69091  0.449822  0.008677   \n",
       "34  2019-3Q   72.308281  162252  359361   3170   65049  0.451501  0.008821   \n",
       "35  2019-4Q   69.150312  163659  362597   5690   67173  0.451352  0.015692   \n",
       "40  2021-1Q   52.428689  169669  333770   2730   59147  0.508341  0.008179   \n",
       "\n",
       "      매출순이익률  \n",
       "0   0.093418  \n",
       "1   0.085109  \n",
       "2   0.082422  \n",
       "3   0.077297  \n",
       "4   0.076177  \n",
       "5   0.124919  \n",
       "6   0.083115  \n",
       "7   0.086749  \n",
       "8   0.087673  \n",
       "9   0.064313  \n",
       "10  0.070035  \n",
       "11  0.075320  \n",
       "12  0.085587  \n",
       "13  0.078951  \n",
       "14  0.075329  \n",
       "15  0.075278  \n",
       "16  0.073057  \n",
       "17  0.056535  \n",
       "18  0.062960  \n",
       "19  0.069201  \n",
       "20  0.037161  \n",
       "21  0.029466  \n",
       "22  0.045162  \n",
       "23  0.039037  \n",
       "24  0.068347  \n",
       "25  0.057682  \n",
       "26  0.064975  \n",
       "27  0.125987  \n",
       "28  0.068171  \n",
       "29  0.053741  \n",
       "30  0.081457  \n",
       "31  0.083455  \n",
       "32  0.036935  \n",
       "33  0.045303  \n",
       "34  0.048732  \n",
       "35  0.084707  \n",
       "40  0.046156  "
      ]
     },
     "execution_count": 98,
     "metadata": {},
     "output_type": "execute_result"
    }
   ],
   "source": [
    "H4_data.loc[H4_data.순이익>0]"
   ]
  },
  {
   "cell_type": "code",
   "execution_count": 92,
   "metadata": {},
   "outputs": [
    {
     "data": {
      "text/plain": [
       "<matplotlib.axes._subplots.AxesSubplot at 0x1db44065a58>"
      ]
     },
     "execution_count": 92,
     "metadata": {},
     "output_type": "execute_result"
    },
    {
     "data": {
      "image/png": "[encoded data removed]",
      "text/plain": [
       "<Figure size 360x360 with 1 Axes>"
      ]
     },
     "metadata": {
      "needs_background": "light"
     },
     "output_type": "display_data"
    }
   ],
   "source": [
    "H4_data[['Close','순이익']].plot.scatter(x = 'Close', y = '순이익',figsize = (5,5))"
   ]
  },
  {
   "cell_type": "code",
   "execution_count": 69,
   "metadata": {},
   "outputs": [
    {
     "data": {
      "text/html": [
       "<div>\n",
       "<style scoped>\n",
       "    .dataframe tbody tr th:only-of-type {\n",
       "        vertical-align: middle;\n",
       "    }\n",
       "\n",
       "    .dataframe tbody tr th {\n",
       "        vertical-align: top;\n",
       "    }\n",
       "\n",
       "    .dataframe thead th {\n",
       "        text-align: right;\n",
       "    }\n",
       "</style>\n",
       "<table border=\"1\" class=\"dataframe\">\n",
       "  <thead>\n",
       "    <tr style=\"text-align: right;\">\n",
       "      <th></th>\n",
       "      <th>Close</th>\n",
       "      <th>부채총계</th>\n",
       "      <th>자산총계</th>\n",
       "      <th>순이익</th>\n",
       "      <th>매출액</th>\n",
       "      <th>부채비율</th>\n",
       "      <th>자기자본이익률</th>\n",
       "      <th>매출순이익률</th>\n",
       "    </tr>\n",
       "  </thead>\n",
       "  <tbody>\n",
       "    <tr>\n",
       "      <th>count</th>\n",
       "      <td>41.000000</td>\n",
       "      <td>41.000000</td>\n",
       "      <td>41.000000</td>\n",
       "      <td>41.000000</td>\n",
       "      <td>41.000000</td>\n",
       "      <td>41.000000</td>\n",
       "      <td>41.000000</td>\n",
       "      <td>41.000000</td>\n",
       "    </tr>\n",
       "    <tr>\n",
       "      <th>mean</th>\n",
       "      <td>79.649804</td>\n",
       "      <td>164099.390244</td>\n",
       "      <td>344424.902439</td>\n",
       "      <td>5127.073171</td>\n",
       "      <td>80863.487805</td>\n",
       "      <td>0.476851</td>\n",
       "      <td>0.014996</td>\n",
       "      <td>0.051463</td>\n",
       "    </tr>\n",
       "    <tr>\n",
       "      <th>std</th>\n",
       "      <td>14.478118</td>\n",
       "      <td>6378.462577</td>\n",
       "      <td>10884.187209</td>\n",
       "      <td>5463.737843</td>\n",
       "      <td>28647.461065</td>\n",
       "      <td>0.022555</td>\n",
       "      <td>0.016373</td>\n",
       "      <td>0.083385</td>\n",
       "    </tr>\n",
       "    <tr>\n",
       "      <th>min</th>\n",
       "      <td>37.493281</td>\n",
       "      <td>147668.000000</td>\n",
       "      <td>319533.000000</td>\n",
       "      <td>-20070.000000</td>\n",
       "      <td>32605.000000</td>\n",
       "      <td>0.426545</td>\n",
       "      <td>-0.060316</td>\n",
       "      <td>-0.431242</td>\n",
       "    </tr>\n",
       "    <tr>\n",
       "      <th>25%</th>\n",
       "      <td>77.411269</td>\n",
       "      <td>160438.000000</td>\n",
       "      <td>336758.000000</td>\n",
       "      <td>2780.000000</td>\n",
       "      <td>58677.000000</td>\n",
       "      <td>0.458548</td>\n",
       "      <td>0.008255</td>\n",
       "      <td>0.046156</td>\n",
       "    </tr>\n",
       "    <tr>\n",
       "      <th>50%</th>\n",
       "      <td>81.818572</td>\n",
       "      <td>163823.000000</td>\n",
       "      <td>345152.000000</td>\n",
       "      <td>4940.000000</td>\n",
       "      <td>69091.000000</td>\n",
       "      <td>0.480896</td>\n",
       "      <td>0.014404</td>\n",
       "      <td>0.069201</td>\n",
       "    </tr>\n",
       "    <tr>\n",
       "      <th>75%</th>\n",
       "      <td>88.674591</td>\n",
       "      <td>168620.000000</td>\n",
       "      <td>352764.000000</td>\n",
       "      <td>8780.000000</td>\n",
       "      <td>110860.000000</td>\n",
       "      <td>0.490406</td>\n",
       "      <td>0.024485</td>\n",
       "      <td>0.082422</td>\n",
       "    </tr>\n",
       "    <tr>\n",
       "      <th>max</th>\n",
       "      <td>100.873492</td>\n",
       "      <td>181035.000000</td>\n",
       "      <td>362597.000000</td>\n",
       "      <td>15910.000000</td>\n",
       "      <td>127363.000000</td>\n",
       "      <td>0.524508</td>\n",
       "      <td>0.048264</td>\n",
       "      <td>0.125987</td>\n",
       "    </tr>\n",
       "  </tbody>\n",
       "</table>\n",
       "</div>"
      ],
      "text/plain": [
       "            Close           부채총계           자산총계           순이익            매출액  \\\n",
       "count   41.000000      41.000000      41.000000     41.000000      41.000000   \n",
       "mean    79.649804  164099.390244  344424.902439   5127.073171   80863.487805   \n",
       "std     14.478118    6378.462577   10884.187209   5463.737843   28647.461065   \n",
       "min     37.493281  147668.000000  319533.000000 -20070.000000   32605.000000   \n",
       "25%     77.411269  160438.000000  336758.000000   2780.000000   58677.000000   \n",
       "50%     81.818572  163823.000000  345152.000000   4940.000000   69091.000000   \n",
       "75%     88.674591  168620.000000  352764.000000   8780.000000  110860.000000   \n",
       "max    100.873492  181035.000000  362597.000000  15910.000000  127363.000000   \n",
       "\n",
       "            부채비율    자기자본이익률     매출순이익률  \n",
       "count  41.000000  41.000000  41.000000  \n",
       "mean    0.476851   0.014996   0.051463  \n",
       "std     0.022555   0.016373   0.083385  \n",
       "min     0.426545  -0.060316  -0.431242  \n",
       "25%     0.458548   0.008255   0.046156  \n",
       "50%     0.480896   0.014404   0.069201  \n",
       "75%     0.490406   0.024485   0.082422  \n",
       "max     0.524508   0.048264   0.125987  "
      ]
     },
     "execution_count": 69,
     "metadata": {},
     "output_type": "execute_result"
    }
   ],
   "source": [
    "H4_data.describe()"
   ]
  },
  {
   "cell_type": "code",
   "execution_count": 81,
   "metadata": {},
   "outputs": [],
   "source": [
    "# 6. 코로나변수 집어넣어보기"
   ]
  },
  {
   "cell_type": "code",
   "execution_count": 119,
   "metadata": {},
   "outputs": [
    {
     "name": "stderr",
     "output_type": "stream",
     "text": [
      "C:\\Users\\admin\\Anaconda3\\lib\\site-packages\\ipykernel_launcher.py:1: SettingWithCopyWarning: \n",
      "A value is trying to be set on a copy of a slice from a DataFrame.\n",
      "Try using .loc[row_indexer,col_indexer] = value instead\n",
      "\n",
      "See the caveats in the documentation: https://pandas.pydata.org/pandas-docs/stable/user_guide/indexing.html#returning-a-view-versus-a-copy\n",
      "  \"\"\"Entry point for launching an IPython kernel.\n"
     ]
    }
   ],
   "source": [
    "H4_data['Corona'] = 0"
   ]
  },
  {
   "cell_type": "code",
   "execution_count": 122,
   "metadata": {},
   "outputs": [
    {
     "name": "stderr",
     "output_type": "stream",
     "text": [
      "C:\\Users\\admin\\Anaconda3\\lib\\site-packages\\pandas\\core\\indexing.py:1720: SettingWithCopyWarning: \n",
      "A value is trying to be set on a copy of a slice from a DataFrame.\n",
      "Try using .loc[row_indexer,col_indexer] = value instead\n",
      "\n",
      "See the caveats in the documentation: https://pandas.pydata.org/pandas-docs/stable/user_guide/indexing.html#returning-a-view-versus-a-copy\n",
      "  self._setitem_single_column(loc, value, pi)\n"
     ]
    }
   ],
   "source": [
    "H4_data.loc[36:,'Corona'] = 1"
   ]
  },
  {
   "cell_type": "code",
   "execution_count": 82,
   "metadata": {},
   "outputs": [],
   "source": [
    "# 7. H4 데이터 저장"
   ]
  },
  {
   "cell_type": "code",
   "execution_count": 18,
   "metadata": {},
   "outputs": [],
   "source": [
    "H4_data.to_csv('data/H4_data')"
   ]
  },
  {
   "cell_type": "code",
   "execution_count": null,
   "metadata": {},
   "outputs": [],
   "source": []
  }
 ],
 "metadata": {
  "kernelspec": {
   "display_name": "Python 3",
   "language": "python",
   "name": "python3"
  },
  "language_info": {
   "codemirror_mode": {
    "name": "ipython",
    "version": 3
   },
   "file_extension": ".py",
   "mimetype": "text/x-python",
   "name": "python",
   "nbconvert_exporter": "python",
   "pygments_lexer": "ipython3",
   "version": "3.7.3"
  }
 },
 "nbformat": 4,
 "nbformat_minor": 2
}
